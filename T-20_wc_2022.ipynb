{
 "cells": [
  {
   "cell_type": "markdown",
   "id": "ecc25494",
   "metadata": {
    "papermill": {
     "duration": 0.016715,
     "end_time": "2023-11-21T05:53:03.275692",
     "exception": false,
     "start_time": "2023-11-21T05:53:03.258977",
     "status": "completed"
    },
    "tags": []
   },
   "source": [
    "#  T-20 World Cup 2022 Data Analysis"
   ]
  },
  {
   "cell_type": "markdown",
   "id": "7bb5f0a1",
   "metadata": {
    "papermill": {
     "duration": 0.015889,
     "end_time": "2023-11-21T05:53:03.307761",
     "exception": false,
     "start_time": "2023-11-21T05:53:03.291872",
     "status": "completed"
    },
    "tags": []
   },
   "source": [
    "### Importing the necessary libraries"
   ]
  },
  {
   "cell_type": "code",
   "execution_count": 47,
   "id": "bbe95a57",
   "metadata": {
    "_cell_guid": "b1076dfc-b9ad-4769-8c92-a6c4dae69d19",
    "_uuid": "8f2839f25d086af736a60e9eeb907d3b93b6e0e5",
    "execution": {
     "iopub.execute_input": "2023-11-21T05:53:03.343462Z",
     "iopub.status.busy": "2023-11-21T05:53:03.342598Z",
     "iopub.status.idle": "2023-11-21T05:53:05.289974Z",
     "shell.execute_reply": "2023-11-21T05:53:05.288451Z"
    },
    "papermill": {
     "duration": 1.968763,
     "end_time": "2023-11-21T05:53:05.292789",
     "exception": false,
     "start_time": "2023-11-21T05:53:03.324026",
     "status": "completed"
    },
    "tags": []
   },
   "outputs": [],
   "source": [
    "import numpy as np \n",
    "import pandas as pd \n",
    "import matplotlib.pyplot as plt\n",
    "import seaborn as sns\n",
    "import os"
   ]
  },
  {
   "cell_type": "markdown",
   "id": "218ba97c",
   "metadata": {
    "papermill": {
     "duration": 0.016087,
     "end_time": "2023-11-21T05:53:05.324968",
     "exception": false,
     "start_time": "2023-11-21T05:53:05.308881",
     "status": "completed"
    },
    "tags": []
   },
   "source": [
    "**Load the Dataset**"
   ]
  },
  {
   "cell_type": "code",
   "execution_count": 48,
   "id": "a7528e1e",
   "metadata": {
    "execution": {
     "iopub.execute_input": "2023-11-21T05:53:05.360395Z",
     "iopub.status.busy": "2023-11-21T05:53:05.359668Z",
     "iopub.status.idle": "2023-11-21T05:53:05.638033Z",
     "shell.execute_reply": "2023-11-21T05:53:05.636507Z"
    },
    "papermill": {
     "duration": 0.299483,
     "end_time": "2023-11-21T05:53:05.640793",
     "exception": false,
     "start_time": "2023-11-21T05:53:05.341310",
     "status": "completed"
    },
    "tags": []
   },
   "outputs": [
    {
     "data": {
      "text/html": [
       "<div>\n",
       "<style scoped>\n",
       "    .dataframe tbody tr th:only-of-type {\n",
       "        vertical-align: middle;\n",
       "    }\n",
       "\n",
       "    .dataframe tbody tr th {\n",
       "        vertical-align: top;\n",
       "    }\n",
       "\n",
       "    .dataframe thead th {\n",
       "        text-align: right;\n",
       "    }\n",
       "</style>\n",
       "<table border=\"1\" class=\"dataframe\">\n",
       "  <thead>\n",
       "    <tr style=\"text-align: right;\">\n",
       "      <th></th>\n",
       "      <th>comment_id</th>\n",
       "      <th>match_id</th>\n",
       "      <th>match_name</th>\n",
       "      <th>home_team</th>\n",
       "      <th>away_team</th>\n",
       "      <th>current_innings</th>\n",
       "      <th>innings_id</th>\n",
       "      <th>over</th>\n",
       "      <th>ball</th>\n",
       "      <th>runs</th>\n",
       "      <th>...</th>\n",
       "      <th>wicket_id</th>\n",
       "      <th>wkt_batsman_name</th>\n",
       "      <th>wkt_bowler_name</th>\n",
       "      <th>wkt_batsman_runs</th>\n",
       "      <th>wkt_batsman_balls</th>\n",
       "      <th>wkt_text</th>\n",
       "      <th>isRetiredHurt</th>\n",
       "      <th>text</th>\n",
       "      <th>preText</th>\n",
       "      <th>postText</th>\n",
       "    </tr>\n",
       "  </thead>\n",
       "  <tbody>\n",
       "    <tr>\n",
       "      <th>6291</th>\n",
       "      <td>19010</td>\n",
       "      <td>1298149</td>\n",
       "      <td>IRE v SL</td>\n",
       "      <td>IRE</td>\n",
       "      <td>SL</td>\n",
       "      <td>IRE</td>\n",
       "      <td>1</td>\n",
       "      <td>10</td>\n",
       "      <td>1</td>\n",
       "      <td>0</td>\n",
       "      <td>...</td>\n",
       "      <td>NaN</td>\n",
       "      <td>NaN</td>\n",
       "      <td>NaN</td>\n",
       "      <td>NaN</td>\n",
       "      <td>NaN</td>\n",
       "      <td>NaN</td>\n",
       "      <td>False</td>\n",
       "      <td>Down the track, manages to connect with the dr...</td>\n",
       "      <td>NaN</td>\n",
       "      <td>NaN</td>\n",
       "    </tr>\n",
       "    <tr>\n",
       "      <th>7844</th>\n",
       "      <td>213050</td>\n",
       "      <td>1298143</td>\n",
       "      <td>NED v SL</td>\n",
       "      <td>SL</td>\n",
       "      <td>NED</td>\n",
       "      <td>NED</td>\n",
       "      <td>2</td>\n",
       "      <td>14</td>\n",
       "      <td>5</td>\n",
       "      <td>2</td>\n",
       "      <td>...</td>\n",
       "      <td>NaN</td>\n",
       "      <td>NaN</td>\n",
       "      <td>NaN</td>\n",
       "      <td>NaN</td>\n",
       "      <td>NaN</td>\n",
       "      <td>NaN</td>\n",
       "      <td>False</td>\n",
       "      <td>And ANOTHER sweep, this time he gets a slight ...</td>\n",
       "      <td>NaN</td>\n",
       "      <td>NaN</td>\n",
       "    </tr>\n",
       "    <tr>\n",
       "      <th>8947</th>\n",
       "      <td>117040</td>\n",
       "      <td>1298138</td>\n",
       "      <td>IRE v ZIM</td>\n",
       "      <td>ZIM</td>\n",
       "      <td>IRE</td>\n",
       "      <td>ZIM</td>\n",
       "      <td>1</td>\n",
       "      <td>18</td>\n",
       "      <td>4</td>\n",
       "      <td>2</td>\n",
       "      <td>...</td>\n",
       "      <td>NaN</td>\n",
       "      <td>NaN</td>\n",
       "      <td>NaN</td>\n",
       "      <td>NaN</td>\n",
       "      <td>NaN</td>\n",
       "      <td>NaN</td>\n",
       "      <td>False</td>\n",
       "      <td>Raza backs away from leg now and slaps a lengt...</td>\n",
       "      <td>NaN</td>\n",
       "      <td>&lt;p&gt;New bat being run out now for Raza. Trades ...</td>\n",
       "    </tr>\n",
       "    <tr>\n",
       "      <th>7228</th>\n",
       "      <td>112010</td>\n",
       "      <td>1298145</td>\n",
       "      <td>IRE v WI</td>\n",
       "      <td>WI</td>\n",
       "      <td>IRE</td>\n",
       "      <td>WI</td>\n",
       "      <td>1</td>\n",
       "      <td>13</td>\n",
       "      <td>1</td>\n",
       "      <td>1</td>\n",
       "      <td>...</td>\n",
       "      <td>NaN</td>\n",
       "      <td>NaN</td>\n",
       "      <td>NaN</td>\n",
       "      <td>NaN</td>\n",
       "      <td>NaN</td>\n",
       "      <td>NaN</td>\n",
       "      <td>False</td>\n",
       "      <td>Full on off, driven to cover</td>\n",
       "      <td>&lt;p&gt;Around&lt;/p&gt;</td>\n",
       "      <td>NaN</td>\n",
       "    </tr>\n",
       "    <tr>\n",
       "      <th>6309</th>\n",
       "      <td>112010</td>\n",
       "      <td>1298149</td>\n",
       "      <td>IRE v SL</td>\n",
       "      <td>IRE</td>\n",
       "      <td>SL</td>\n",
       "      <td>IRE</td>\n",
       "      <td>1</td>\n",
       "      <td>13</td>\n",
       "      <td>1</td>\n",
       "      <td>1</td>\n",
       "      <td>...</td>\n",
       "      <td>NaN</td>\n",
       "      <td>NaN</td>\n",
       "      <td>NaN</td>\n",
       "      <td>NaN</td>\n",
       "      <td>NaN</td>\n",
       "      <td>NaN</td>\n",
       "      <td>False</td>\n",
       "      <td>Tucks a length ball to midwicket</td>\n",
       "      <td>NaN</td>\n",
       "      <td>NaN</td>\n",
       "    </tr>\n",
       "  </tbody>\n",
       "</table>\n",
       "<p>5 rows × 44 columns</p>\n",
       "</div>"
      ],
      "text/plain": [
       "      comment_id  match_id match_name home_team away_team current_innings  \\\n",
       "6291       19010   1298149   IRE v SL       IRE        SL             IRE   \n",
       "7844      213050   1298143   NED v SL        SL       NED             NED   \n",
       "8947      117040   1298138  IRE v ZIM       ZIM       IRE             ZIM   \n",
       "7228      112010   1298145   IRE v WI        WI       IRE              WI   \n",
       "6309      112010   1298149   IRE v SL       IRE        SL             IRE   \n",
       "\n",
       "      innings_id  over  ball  runs  ... wicket_id  wkt_batsman_name  \\\n",
       "6291           1    10     1     0  ...       NaN               NaN   \n",
       "7844           2    14     5     2  ...       NaN               NaN   \n",
       "8947           1    18     4     2  ...       NaN               NaN   \n",
       "7228           1    13     1     1  ...       NaN               NaN   \n",
       "6309           1    13     1     1  ...       NaN               NaN   \n",
       "\n",
       "      wkt_bowler_name  wkt_batsman_runs  wkt_batsman_balls wkt_text  \\\n",
       "6291              NaN               NaN                NaN      NaN   \n",
       "7844              NaN               NaN                NaN      NaN   \n",
       "8947              NaN               NaN                NaN      NaN   \n",
       "7228              NaN               NaN                NaN      NaN   \n",
       "6309              NaN               NaN                NaN      NaN   \n",
       "\n",
       "      isRetiredHurt                                               text  \\\n",
       "6291          False  Down the track, manages to connect with the dr...   \n",
       "7844          False  And ANOTHER sweep, this time he gets a slight ...   \n",
       "8947          False  Raza backs away from leg now and slaps a lengt...   \n",
       "7228          False                       Full on off, driven to cover   \n",
       "6309          False                   Tucks a length ball to midwicket   \n",
       "\n",
       "            preText                                           postText  \n",
       "6291            NaN                                                NaN  \n",
       "7844            NaN                                                NaN  \n",
       "8947            NaN  <p>New bat being run out now for Raza. Trades ...  \n",
       "7228  <p>Around</p>                                                NaN  \n",
       "6309            NaN                                                NaN  \n",
       "\n",
       "[5 rows x 44 columns]"
      ]
     },
     "execution_count": 48,
     "metadata": {},
     "output_type": "execute_result"
    }
   ],
   "source": [
    "df = pd.read_csv('T-20 World cup 2022.csv')\n",
    "df.sample(5)"
   ]
  },
  {
   "cell_type": "markdown",
   "id": "5c860a16",
   "metadata": {
    "papermill": {
     "duration": 0.017048,
     "end_time": "2023-11-21T05:53:05.674676",
     "exception": false,
     "start_time": "2023-11-21T05:53:05.657628",
     "status": "completed"
    },
    "tags": []
   },
   "source": [
    "### **Dataset Exploration**"
   ]
  },
  {
   "cell_type": "code",
   "execution_count": 49,
   "id": "53b4b6cb",
   "metadata": {
    "execution": {
     "iopub.execute_input": "2023-11-21T05:53:05.711117Z",
     "iopub.status.busy": "2023-11-21T05:53:05.710597Z",
     "iopub.status.idle": "2023-11-21T05:53:05.719292Z",
     "shell.execute_reply": "2023-11-21T05:53:05.718065Z"
    },
    "papermill": {
     "duration": 0.02982,
     "end_time": "2023-11-21T05:53:05.721682",
     "exception": false,
     "start_time": "2023-11-21T05:53:05.691862",
     "status": "completed"
    },
    "tags": []
   },
   "outputs": [
    {
     "data": {
      "text/plain": [
       "(9814, 44)"
      ]
     },
     "execution_count": 49,
     "metadata": {},
     "output_type": "execute_result"
    }
   ],
   "source": [
    "df.shape"
   ]
  },
  {
   "cell_type": "code",
   "execution_count": 50,
   "id": "90ecdc0a",
   "metadata": {
    "execution": {
     "iopub.execute_input": "2023-11-21T05:53:05.757960Z",
     "iopub.status.busy": "2023-11-21T05:53:05.757171Z",
     "iopub.status.idle": "2023-11-21T05:53:05.765318Z",
     "shell.execute_reply": "2023-11-21T05:53:05.764127Z"
    },
    "papermill": {
     "duration": 0.028972,
     "end_time": "2023-11-21T05:53:05.767727",
     "exception": false,
     "start_time": "2023-11-21T05:53:05.738755",
     "status": "completed"
    },
    "tags": []
   },
   "outputs": [
    {
     "data": {
      "text/plain": [
       "Index(['comment_id', 'match_id', 'match_name', 'home_team', 'away_team',\n",
       "       'current_innings', 'innings_id', 'over', 'ball', 'runs', 'shortText',\n",
       "       'isBoundary', 'isWide', 'isNoball', 'batsman1_id', 'batsman1_name',\n",
       "       'batsman1_runs', 'batsman1_balls', 'bowler1_id', 'bowler1_name',\n",
       "       'bowler1_overs', 'bowler1_maidens', 'bowler1_runs', 'bowler1_wkts',\n",
       "       'batsman2_id', 'batsman2_name', 'batsman2_runs', 'batsman2_balls',\n",
       "       'bowler2_id', 'bowler2_name', 'bowler2_overs', 'bowler2_maidens',\n",
       "       'bowler2_runs', 'bowler2_wkts', 'wicket_id', 'wkt_batsman_name',\n",
       "       'wkt_bowler_name', 'wkt_batsman_runs', 'wkt_batsman_balls', 'wkt_text',\n",
       "       'isRetiredHurt', 'text', 'preText', 'postText'],\n",
       "      dtype='object')"
      ]
     },
     "execution_count": 50,
     "metadata": {},
     "output_type": "execute_result"
    }
   ],
   "source": [
    "df.columns"
   ]
  },
  {
   "cell_type": "code",
   "execution_count": 51,
   "id": "28d4e647",
   "metadata": {
    "execution": {
     "iopub.execute_input": "2023-11-21T05:53:05.804135Z",
     "iopub.status.busy": "2023-11-21T05:53:05.803337Z",
     "iopub.status.idle": "2023-11-21T05:53:05.887963Z",
     "shell.execute_reply": "2023-11-21T05:53:05.886599Z"
    },
    "papermill": {
     "duration": 0.106124,
     "end_time": "2023-11-21T05:53:05.891022",
     "exception": false,
     "start_time": "2023-11-21T05:53:05.784898",
     "status": "completed"
    },
    "tags": []
   },
   "outputs": [],
   "source": [
    "df.duplicated()\n",
    "df.drop_duplicates(inplace= True)"
   ]
  },
  {
   "cell_type": "code",
   "execution_count": 52,
   "id": "6ba097ff",
   "metadata": {
    "execution": {
     "iopub.execute_input": "2023-11-21T05:53:05.927567Z",
     "iopub.status.busy": "2023-11-21T05:53:05.927040Z",
     "iopub.status.idle": "2023-11-21T05:53:05.966970Z",
     "shell.execute_reply": "2023-11-21T05:53:05.965343Z"
    },
    "papermill": {
     "duration": 0.061752,
     "end_time": "2023-11-21T05:53:05.969956",
     "exception": false,
     "start_time": "2023-11-21T05:53:05.908204",
     "status": "completed"
    },
    "tags": []
   },
   "outputs": [
    {
     "name": "stdout",
     "output_type": "stream",
     "text": [
      "<class 'pandas.core.frame.DataFrame'>\n",
      "Index: 9813 entries, 0 to 9813\n",
      "Data columns (total 44 columns):\n",
      " #   Column             Non-Null Count  Dtype  \n",
      "---  ------             --------------  -----  \n",
      " 0   comment_id         9813 non-null   int64  \n",
      " 1   match_id           9813 non-null   int64  \n",
      " 2   match_name         9813 non-null   object \n",
      " 3   home_team          9813 non-null   object \n",
      " 4   away_team          9813 non-null   object \n",
      " 5   current_innings    9813 non-null   object \n",
      " 6   innings_id         9813 non-null   int64  \n",
      " 7   over               9813 non-null   int64  \n",
      " 8   ball               9813 non-null   int64  \n",
      " 9   runs               9813 non-null   int64  \n",
      " 10  shortText          9813 non-null   object \n",
      " 11  isBoundary         9813 non-null   bool   \n",
      " 12  isWide             9813 non-null   bool   \n",
      " 13  isNoball           9813 non-null   bool   \n",
      " 14  batsman1_id        9813 non-null   int64  \n",
      " 15  batsman1_name      9813 non-null   object \n",
      " 16  batsman1_runs      9813 non-null   int64  \n",
      " 17  batsman1_balls     9813 non-null   int64  \n",
      " 18  bowler1_id         9813 non-null   int64  \n",
      " 19  bowler1_name       9813 non-null   object \n",
      " 20  bowler1_overs      9813 non-null   float64\n",
      " 21  bowler1_maidens    9813 non-null   int64  \n",
      " 22  bowler1_runs       9813 non-null   int64  \n",
      " 23  bowler1_wkts       9813 non-null   int64  \n",
      " 24  batsman2_id        9813 non-null   int64  \n",
      " 25  batsman2_name      9813 non-null   object \n",
      " 26  batsman2_runs      9813 non-null   int64  \n",
      " 27  batsman2_balls     9813 non-null   int64  \n",
      " 28  bowler2_id         9287 non-null   float64\n",
      " 29  bowler2_name       9287 non-null   object \n",
      " 30  bowler2_overs      9287 non-null   float64\n",
      " 31  bowler2_maidens    9287 non-null   float64\n",
      " 32  bowler2_runs       9287 non-null   float64\n",
      " 33  bowler2_wkts       9287 non-null   float64\n",
      " 34  wicket_id          551 non-null    float64\n",
      " 35  wkt_batsman_name   551 non-null    object \n",
      " 36  wkt_bowler_name    551 non-null    object \n",
      " 37  wkt_batsman_runs   551 non-null    float64\n",
      " 38  wkt_batsman_balls  551 non-null    float64\n",
      " 39  wkt_text           551 non-null    object \n",
      " 40  isRetiredHurt      9813 non-null   bool   \n",
      " 41  text               9785 non-null   object \n",
      " 42  preText            1860 non-null   object \n",
      " 43  postText           1088 non-null   object \n",
      "dtypes: bool(4), float64(9), int64(16), object(15)\n",
      "memory usage: 3.1+ MB\n"
     ]
    }
   ],
   "source": [
    "df.info()"
   ]
  },
  {
   "cell_type": "code",
   "execution_count": 67,
   "id": "2af7336e",
   "metadata": {
    "execution": {
     "iopub.execute_input": "2023-11-21T05:53:06.008189Z",
     "iopub.status.busy": "2023-11-21T05:53:06.006952Z",
     "iopub.status.idle": "2023-11-21T05:53:06.031451Z",
     "shell.execute_reply": "2023-11-21T05:53:06.030064Z"
    },
    "papermill": {
     "duration": 0.046471,
     "end_time": "2023-11-21T05:53:06.034123",
     "exception": false,
     "start_time": "2023-11-21T05:53:05.987652",
     "status": "completed"
    },
    "tags": []
   },
   "outputs": [
    {
     "data": {
      "text/plain": [
       "comment_id              0\n",
       "match_id                0\n",
       "match_name              0\n",
       "home_team               0\n",
       "away_team               0\n",
       "batting_team            0\n",
       "innings_id              0\n",
       "over                    0\n",
       "ball                    0\n",
       "runs                    0\n",
       "shortText               0\n",
       "isBoundary              0\n",
       "isWide                  0\n",
       "isNoball                0\n",
       "batsman1_id             0\n",
       "batsman1_name           0\n",
       "batsman1_runs           0\n",
       "batsman1_balls          0\n",
       "bowler1_id              0\n",
       "bowler1_name            0\n",
       "bowler1_overs           0\n",
       "bowler1_maidens         0\n",
       "bowler1_runs            0\n",
       "bowler1_wkts            0\n",
       "batsman2_id             0\n",
       "batsman2_name           0\n",
       "batsman2_runs           0\n",
       "batsman2_balls          0\n",
       "bowler2_id            526\n",
       "bowler2_name          526\n",
       "bowler2_overs         526\n",
       "bowler2_maidens       526\n",
       "bowler2_runs          526\n",
       "bowler2_wkts          526\n",
       "wicket_id            9262\n",
       "wkt_batsman_name     9262\n",
       "wkt_bowler_name      9262\n",
       "wkt_batsman_runs     9262\n",
       "wkt_batsman_balls    9262\n",
       "wkt_text             9262\n",
       "isRetiredHurt           0\n",
       "text                   28\n",
       "preText              7953\n",
       "postText             8725\n",
       "bowling_team            0\n",
       "dtype: int64"
      ]
     },
     "execution_count": 67,
     "metadata": {},
     "output_type": "execute_result"
    }
   ],
   "source": [
    "df.isnull().sum()"
   ]
  },
  {
   "cell_type": "markdown",
   "id": "40d6a2fd",
   "metadata": {
    "papermill": {
     "duration": 0.017441,
     "end_time": "2023-11-21T05:53:06.070812",
     "exception": false,
     "start_time": "2023-11-21T05:53:06.053371",
     "status": "completed"
    },
    "tags": []
   },
   "source": [
    "**T20 WC participated Teams**"
   ]
  },
  {
   "cell_type": "code",
   "execution_count": 68,
   "id": "50b9d0b2",
   "metadata": {
    "execution": {
     "iopub.execute_input": "2023-11-21T05:53:06.204166Z",
     "iopub.status.busy": "2023-11-21T05:53:06.203386Z",
     "iopub.status.idle": "2023-11-21T05:53:06.212210Z",
     "shell.execute_reply": "2023-11-21T05:53:06.211317Z"
    },
    "papermill": {
     "duration": 0.031529,
     "end_time": "2023-11-21T05:53:06.215010",
     "exception": false,
     "start_time": "2023-11-21T05:53:06.183481",
     "status": "completed"
    },
    "tags": []
   },
   "outputs": [
    {
     "data": {
      "text/plain": [
       "array(['PAK', 'ENG', 'INDIA', 'NZ', 'ZIM', 'BAN', 'NED', 'SA', 'SL',\n",
       "       'AUS', 'AFG', 'IRE', 'SCOT', 'WI', 'UAE', 'NAM'], dtype=object)"
      ]
     },
     "execution_count": 68,
     "metadata": {},
     "output_type": "execute_result"
    }
   ],
   "source": [
    "df.rename(columns={'current_innings':'batting_team'}, inplace= True)\n",
    "df['batting_team'].unique()"
   ]
  },
  {
   "cell_type": "markdown",
   "id": "ab5d9aae",
   "metadata": {
    "papermill": {
     "duration": 0.018077,
     "end_time": "2023-11-21T05:53:06.251206",
     "exception": false,
     "start_time": "2023-11-21T05:53:06.233129",
     "status": "completed"
    },
    "tags": []
   },
   "source": [
    "We will focus on Top 10 teams so that our analysis is short and clear"
   ]
  },
  {
   "cell_type": "code",
   "execution_count": 69,
   "id": "bf156853",
   "metadata": {
    "execution": {
     "iopub.execute_input": "2023-11-21T05:53:06.289961Z",
     "iopub.status.busy": "2023-11-21T05:53:06.289225Z",
     "iopub.status.idle": "2023-11-21T05:53:06.293959Z",
     "shell.execute_reply": "2023-11-21T05:53:06.293156Z"
    },
    "papermill": {
     "duration": 0.027122,
     "end_time": "2023-11-21T05:53:06.296616",
     "exception": false,
     "start_time": "2023-11-21T05:53:06.269494",
     "status": "completed"
    },
    "tags": []
   },
   "outputs": [],
   "source": [
    "top10= ['INDIA','ENG','PAK','NZ','BAN','SA','SL','AUS','WI','AFG']"
   ]
  },
  {
   "cell_type": "code",
   "execution_count": 70,
   "id": "45fed6d6",
   "metadata": {
    "execution": {
     "iopub.execute_input": "2023-11-21T05:53:06.335187Z",
     "iopub.status.busy": "2023-11-21T05:53:06.334729Z",
     "iopub.status.idle": "2023-11-21T05:53:06.342697Z",
     "shell.execute_reply": "2023-11-21T05:53:06.341336Z"
    },
    "papermill": {
     "duration": 0.030774,
     "end_time": "2023-11-21T05:53:06.345728",
     "exception": false,
     "start_time": "2023-11-21T05:53:06.314954",
     "status": "completed"
    },
    "tags": []
   },
   "outputs": [
    {
     "name": "stdout",
     "output_type": "stream",
     "text": [
      "['PAK' 'ENG' 'INDIA' 'NZ' 'ZIM' 'BAN' 'NED' 'SA' 'SL' 'AUS' 'AFG' 'IRE'\n",
      " 'SCOT' 'WI' 'UAE' 'NAM']\n"
     ]
    }
   ],
   "source": [
    "country = df['batting_team'].unique()\n",
    "print(country)"
   ]
  },
  {
   "cell_type": "code",
   "execution_count": 71,
   "id": "5a2fcbd0",
   "metadata": {
    "execution": {
     "iopub.execute_input": "2023-11-21T05:53:06.385373Z",
     "iopub.status.busy": "2023-11-21T05:53:06.384047Z",
     "iopub.status.idle": "2023-11-21T05:53:06.392565Z",
     "shell.execute_reply": "2023-11-21T05:53:06.391170Z"
    },
    "papermill": {
     "duration": 0.031222,
     "end_time": "2023-11-21T05:53:06.395368",
     "exception": false,
     "start_time": "2023-11-21T05:53:06.364146",
     "status": "completed"
    },
    "tags": []
   },
   "outputs": [
    {
     "name": "stdout",
     "output_type": "stream",
     "text": [
      "['ENG v PAK' 'ENG v INDIA' 'NZ v PAK' 'INDIA v ZIM' 'BAN v PAK' 'NED v SA'\n",
      " 'ENG v SL' 'AUS v AFG' 'IRE v NZ' 'PAK v SA' 'BAN v INDIA' 'NED v ZIM'\n",
      " 'ENG v NZ' 'AFG v SL' 'AUS v IRE' 'INDIA v SA' 'NED v PAK' 'BAN v ZIM'\n",
      " 'NZ v SL' 'PAK v ZIM' 'INDIA v NED' 'BAN v SA' 'ENG v IRE' 'AUS v SL'\n",
      " 'SA v ZIM' 'BAN v NED' 'INDIA v PAK' 'IRE v SL' 'AFG v ENG' 'AUS v NZ'\n",
      " 'SCOT v ZIM' 'IRE v WI' 'NAM v UAE' 'NED v SL' 'WI v ZIM' 'IRE v SCOT'\n",
      " 'SL v UAE' 'NAM v NED' 'IRE v ZIM' 'SCOT v WI' 'NED v UAE' 'NAM v SL']\n"
     ]
    }
   ],
   "source": [
    "print(df['match_name'].unique())"
   ]
  },
  {
   "cell_type": "code",
   "execution_count": 72,
   "id": "7fc952d2",
   "metadata": {
    "execution": {
     "iopub.execute_input": "2023-11-21T05:53:06.434435Z",
     "iopub.status.busy": "2023-11-21T05:53:06.433971Z",
     "iopub.status.idle": "2023-11-21T05:53:06.813701Z",
     "shell.execute_reply": "2023-11-21T05:53:06.812487Z"
    },
    "papermill": {
     "duration": 0.402834,
     "end_time": "2023-11-21T05:53:06.816628",
     "exception": false,
     "start_time": "2023-11-21T05:53:06.413794",
     "status": "completed"
    },
    "tags": []
   },
   "outputs": [
    {
     "data": {
      "text/plain": [
       "array(['ENG', 'PAK', 'INDIA', 'NZ', 'ZIM', 'BAN', 'SA', 'NED', 'SL',\n",
       "       'AFG', 'AUS', 'IRE', 'SCOT', 'WI', 'NAM', 'UAE'], dtype=object)"
      ]
     },
     "execution_count": 72,
     "metadata": {},
     "output_type": "execute_result"
    }
   ],
   "source": [
    "# Split 'match_name' into two new columns: 'team1' and 'team2'\n",
    "df[['team1', 'team2']] = df['match_name'].str.split(' v ', expand=True)\n",
    "\n",
    "# Add a new column 'bowling_team' with the team not present in 'current_inning'\n",
    "df['bowling_team'] = df.apply(lambda row: row['team2'] if row['batting_team'] == row['team1'] else row['team1'], axis=1)\n",
    "\n",
    "df.drop(columns= ['team1', 'team2'], inplace= True )\n",
    "df['bowling_team'].unique()"
   ]
  },
  {
   "cell_type": "code",
   "execution_count": 73,
   "id": "3753c3f7",
   "metadata": {
    "execution": {
     "iopub.execute_input": "2023-11-21T05:53:06.855842Z",
     "iopub.status.busy": "2023-11-21T05:53:06.855438Z",
     "iopub.status.idle": "2023-11-21T05:53:06.862470Z",
     "shell.execute_reply": "2023-11-21T05:53:06.860639Z"
    },
    "papermill": {
     "duration": 0.030273,
     "end_time": "2023-11-21T05:53:06.866003",
     "exception": false,
     "start_time": "2023-11-21T05:53:06.835730",
     "status": "completed"
    },
    "tags": []
   },
   "outputs": [],
   "source": [
    "def filtered_df(df, columns, top_teams):\n",
    "    condition = df['batting_team'].isin(top_teams) & df['bowling_team'].isin(top_teams)\n",
    "    return df.loc[condition, columns]"
   ]
  },
  {
   "cell_type": "markdown",
   "id": "69fb817b",
   "metadata": {
    "papermill": {
     "duration": 0.019024,
     "end_time": "2023-11-21T05:53:06.943564",
     "exception": false,
     "start_time": "2023-11-21T05:53:06.924540",
     "status": "completed"
    },
    "tags": []
   },
   "source": [
    "**World Top10 highest scorer batsman**"
   ]
  },
  {
   "cell_type": "code",
   "execution_count": 74,
   "id": "d6a0a3ad",
   "metadata": {
    "execution": {
     "iopub.execute_input": "2023-11-21T05:53:06.981974Z",
     "iopub.status.busy": "2023-11-21T05:53:06.981576Z",
     "iopub.status.idle": "2023-11-21T05:53:07.106422Z",
     "shell.execute_reply": "2023-11-21T05:53:07.105088Z"
    },
    "papermill": {
     "duration": 0.147741,
     "end_time": "2023-11-21T05:53:07.109293",
     "exception": false,
     "start_time": "2023-11-21T05:53:06.961552",
     "status": "completed"
    },
    "tags": []
   },
   "outputs": [
    {
     "data": {
      "text/html": [
       "<div>\n",
       "<style scoped>\n",
       "    .dataframe tbody tr th:only-of-type {\n",
       "        vertical-align: middle;\n",
       "    }\n",
       "\n",
       "    .dataframe tbody tr th {\n",
       "        vertical-align: top;\n",
       "    }\n",
       "\n",
       "    .dataframe thead th {\n",
       "        text-align: right;\n",
       "    }\n",
       "</style>\n",
       "<table border=\"1\" class=\"dataframe\">\n",
       "  <thead>\n",
       "    <tr style=\"text-align: right;\">\n",
       "      <th></th>\n",
       "      <th>batting_team</th>\n",
       "      <th>batsman1_runs</th>\n",
       "    </tr>\n",
       "    <tr>\n",
       "      <th>batsman_name</th>\n",
       "      <th></th>\n",
       "      <th></th>\n",
       "    </tr>\n",
       "  </thead>\n",
       "  <tbody>\n",
       "    <tr>\n",
       "      <th>Rilee Rossouw</th>\n",
       "      <td>SA</td>\n",
       "      <td>109</td>\n",
       "    </tr>\n",
       "    <tr>\n",
       "      <th>Glenn Phillips</th>\n",
       "      <td>NZ</td>\n",
       "      <td>104</td>\n",
       "    </tr>\n",
       "    <tr>\n",
       "      <th>Devon Conway</th>\n",
       "      <td>NZ</td>\n",
       "      <td>92</td>\n",
       "    </tr>\n",
       "    <tr>\n",
       "      <th>Alex Hales</th>\n",
       "      <td>ENG</td>\n",
       "      <td>86</td>\n",
       "    </tr>\n",
       "    <tr>\n",
       "      <th>Virat Kohli</th>\n",
       "      <td>INDIA</td>\n",
       "      <td>82</td>\n",
       "    </tr>\n",
       "    <tr>\n",
       "      <th>Jos Buttler</th>\n",
       "      <td>ENG</td>\n",
       "      <td>80</td>\n",
       "    </tr>\n",
       "    <tr>\n",
       "      <th>Suryakumar Yadav</th>\n",
       "      <td>INDIA</td>\n",
       "      <td>68</td>\n",
       "    </tr>\n",
       "    <tr>\n",
       "      <th>Pathum Nissanka</th>\n",
       "      <td>SL</td>\n",
       "      <td>67</td>\n",
       "    </tr>\n",
       "    <tr>\n",
       "      <th>Dhananjaya de Silva</th>\n",
       "      <td>SL</td>\n",
       "      <td>66</td>\n",
       "    </tr>\n",
       "    <tr>\n",
       "      <th>Hardik Pandya</th>\n",
       "      <td>INDIA</td>\n",
       "      <td>63</td>\n",
       "    </tr>\n",
       "  </tbody>\n",
       "</table>\n",
       "</div>"
      ],
      "text/plain": [
       "                    batting_team  batsman1_runs\n",
       "batsman_name                                   \n",
       "Rilee Rossouw                 SA            109\n",
       "Glenn Phillips                NZ            104\n",
       "Devon Conway                  NZ             92\n",
       "Alex Hales                   ENG             86\n",
       "Virat Kohli                INDIA             82\n",
       "Jos Buttler                  ENG             80\n",
       "Suryakumar Yadav           INDIA             68\n",
       "Pathum Nissanka               SL             67\n",
       "Dhananjaya de Silva           SL             66\n",
       "Hardik Pandya              INDIA             63"
      ]
     },
     "execution_count": 74,
     "metadata": {},
     "output_type": "execute_result"
    }
   ],
   "source": [
    "batting_df1= ['batting_team','batsman1_name','batsman1_runs']\n",
    "for i in country:\n",
    "    filtered1 = filtered_df(df,batting_df1,top10)\n",
    "filtered1.rename(columns={'batsman1_name':'batsman_name'}, inplace=True)\n",
    "filtered1=filtered1.groupby('batsman_name').max().sort_values(by='batsman1_runs',ascending=False)[:10]\n",
    "filtered1"
   ]
  },
  {
   "cell_type": "code",
   "execution_count": 75,
   "id": "5f85fcca",
   "metadata": {
    "execution": {
     "iopub.execute_input": "2023-11-21T05:53:07.147923Z",
     "iopub.status.busy": "2023-11-21T05:53:07.147532Z",
     "iopub.status.idle": "2023-11-21T05:53:07.268601Z",
     "shell.execute_reply": "2023-11-21T05:53:07.267190Z"
    },
    "papermill": {
     "duration": 0.143653,
     "end_time": "2023-11-21T05:53:07.271430",
     "exception": false,
     "start_time": "2023-11-21T05:53:07.127777",
     "status": "completed"
    },
    "tags": []
   },
   "outputs": [
    {
     "data": {
      "text/html": [
       "<div>\n",
       "<style scoped>\n",
       "    .dataframe tbody tr th:only-of-type {\n",
       "        vertical-align: middle;\n",
       "    }\n",
       "\n",
       "    .dataframe tbody tr th {\n",
       "        vertical-align: top;\n",
       "    }\n",
       "\n",
       "    .dataframe thead th {\n",
       "        text-align: right;\n",
       "    }\n",
       "</style>\n",
       "<table border=\"1\" class=\"dataframe\">\n",
       "  <thead>\n",
       "    <tr style=\"text-align: right;\">\n",
       "      <th></th>\n",
       "      <th>batting_team</th>\n",
       "      <th>batsman2_runs</th>\n",
       "    </tr>\n",
       "    <tr>\n",
       "      <th>batsman_name</th>\n",
       "      <th></th>\n",
       "      <th></th>\n",
       "    </tr>\n",
       "  </thead>\n",
       "  <tbody>\n",
       "    <tr>\n",
       "      <th>Rilee Rossouw</th>\n",
       "      <td>SA</td>\n",
       "      <td>107</td>\n",
       "    </tr>\n",
       "    <tr>\n",
       "      <th>Glenn Phillips</th>\n",
       "      <td>NZ</td>\n",
       "      <td>104</td>\n",
       "    </tr>\n",
       "    <tr>\n",
       "      <th>Devon Conway</th>\n",
       "      <td>NZ</td>\n",
       "      <td>92</td>\n",
       "    </tr>\n",
       "    <tr>\n",
       "      <th>Alex Hales</th>\n",
       "      <td>ENG</td>\n",
       "      <td>86</td>\n",
       "    </tr>\n",
       "    <tr>\n",
       "      <th>Virat Kohli</th>\n",
       "      <td>INDIA</td>\n",
       "      <td>82</td>\n",
       "    </tr>\n",
       "    <tr>\n",
       "      <th>Jos Buttler</th>\n",
       "      <td>ENG</td>\n",
       "      <td>74</td>\n",
       "    </tr>\n",
       "    <tr>\n",
       "      <th>Pathum Nissanka</th>\n",
       "      <td>SL</td>\n",
       "      <td>67</td>\n",
       "    </tr>\n",
       "    <tr>\n",
       "      <th>Suryakumar Yadav</th>\n",
       "      <td>INDIA</td>\n",
       "      <td>66</td>\n",
       "    </tr>\n",
       "    <tr>\n",
       "      <th>Dhananjaya de Silva</th>\n",
       "      <td>SL</td>\n",
       "      <td>60</td>\n",
       "    </tr>\n",
       "    <tr>\n",
       "      <th>Litton Das</th>\n",
       "      <td>BAN</td>\n",
       "      <td>60</td>\n",
       "    </tr>\n",
       "  </tbody>\n",
       "</table>\n",
       "</div>"
      ],
      "text/plain": [
       "                    batting_team  batsman2_runs\n",
       "batsman_name                                   \n",
       "Rilee Rossouw                 SA            107\n",
       "Glenn Phillips                NZ            104\n",
       "Devon Conway                  NZ             92\n",
       "Alex Hales                   ENG             86\n",
       "Virat Kohli                INDIA             82\n",
       "Jos Buttler                  ENG             74\n",
       "Pathum Nissanka               SL             67\n",
       "Suryakumar Yadav           INDIA             66\n",
       "Dhananjaya de Silva           SL             60\n",
       "Litton Das                   BAN             60"
      ]
     },
     "execution_count": 75,
     "metadata": {},
     "output_type": "execute_result"
    }
   ],
   "source": [
    "batting_df2= ['batting_team','batsman2_name','batsman2_runs']\n",
    "for i in country:\n",
    "        filtered2 = filtered_df(df,batting_df2,top10)\n",
    "filtered2.rename(columns={'batsman2_name':'batsman_name'}, inplace=True)\n",
    "filtered2=filtered2.groupby('batsman_name').max().sort_values(by='batsman2_runs',ascending=False)[:10]\n",
    "filtered2"
   ]
  },
  {
   "cell_type": "code",
   "execution_count": 76,
   "id": "99e4a265",
   "metadata": {
    "execution": {
     "iopub.execute_input": "2023-11-21T05:53:07.310813Z",
     "iopub.status.busy": "2023-11-21T05:53:07.310426Z",
     "iopub.status.idle": "2023-11-21T05:53:07.330626Z",
     "shell.execute_reply": "2023-11-21T05:53:07.329832Z"
    },
    "papermill": {
     "duration": 0.043379,
     "end_time": "2023-11-21T05:53:07.333451",
     "exception": false,
     "start_time": "2023-11-21T05:53:07.290072",
     "status": "completed"
    },
    "tags": []
   },
   "outputs": [
    {
     "data": {
      "text/html": [
       "<div>\n",
       "<style scoped>\n",
       "    .dataframe tbody tr th:only-of-type {\n",
       "        vertical-align: middle;\n",
       "    }\n",
       "\n",
       "    .dataframe tbody tr th {\n",
       "        vertical-align: top;\n",
       "    }\n",
       "\n",
       "    .dataframe thead th {\n",
       "        text-align: right;\n",
       "    }\n",
       "</style>\n",
       "<table border=\"1\" class=\"dataframe\">\n",
       "  <thead>\n",
       "    <tr style=\"text-align: right;\">\n",
       "      <th></th>\n",
       "      <th>batting_team</th>\n",
       "      <th>batsman1_runs</th>\n",
       "      <th>batsman2_runs</th>\n",
       "    </tr>\n",
       "    <tr>\n",
       "      <th>batsman_name</th>\n",
       "      <th></th>\n",
       "      <th></th>\n",
       "      <th></th>\n",
       "    </tr>\n",
       "  </thead>\n",
       "  <tbody>\n",
       "    <tr>\n",
       "      <th>Rilee Rossouw</th>\n",
       "      <td>SA</td>\n",
       "      <td>109</td>\n",
       "      <td>107</td>\n",
       "    </tr>\n",
       "    <tr>\n",
       "      <th>Glenn Phillips</th>\n",
       "      <td>NZ</td>\n",
       "      <td>104</td>\n",
       "      <td>104</td>\n",
       "    </tr>\n",
       "    <tr>\n",
       "      <th>Devon Conway</th>\n",
       "      <td>NZ</td>\n",
       "      <td>92</td>\n",
       "      <td>92</td>\n",
       "    </tr>\n",
       "    <tr>\n",
       "      <th>Alex Hales</th>\n",
       "      <td>ENG</td>\n",
       "      <td>86</td>\n",
       "      <td>86</td>\n",
       "    </tr>\n",
       "    <tr>\n",
       "      <th>Virat Kohli</th>\n",
       "      <td>INDIA</td>\n",
       "      <td>82</td>\n",
       "      <td>82</td>\n",
       "    </tr>\n",
       "    <tr>\n",
       "      <th>Jos Buttler</th>\n",
       "      <td>ENG</td>\n",
       "      <td>80</td>\n",
       "      <td>74</td>\n",
       "    </tr>\n",
       "    <tr>\n",
       "      <th>Suryakumar Yadav</th>\n",
       "      <td>INDIA</td>\n",
       "      <td>68</td>\n",
       "      <td>66</td>\n",
       "    </tr>\n",
       "    <tr>\n",
       "      <th>Pathum Nissanka</th>\n",
       "      <td>SL</td>\n",
       "      <td>67</td>\n",
       "      <td>67</td>\n",
       "    </tr>\n",
       "    <tr>\n",
       "      <th>Dhananjaya de Silva</th>\n",
       "      <td>SL</td>\n",
       "      <td>66</td>\n",
       "      <td>60</td>\n",
       "    </tr>\n",
       "  </tbody>\n",
       "</table>\n",
       "</div>"
      ],
      "text/plain": [
       "                    batting_team  batsman1_runs  batsman2_runs\n",
       "batsman_name                                                  \n",
       "Rilee Rossouw                 SA            109            107\n",
       "Glenn Phillips                NZ            104            104\n",
       "Devon Conway                  NZ             92             92\n",
       "Alex Hales                   ENG             86             86\n",
       "Virat Kohli                INDIA             82             82\n",
       "Jos Buttler                  ENG             80             74\n",
       "Suryakumar Yadav           INDIA             68             66\n",
       "Pathum Nissanka               SL             67             67\n",
       "Dhananjaya de Silva           SL             66             60"
      ]
     },
     "execution_count": 76,
     "metadata": {},
     "output_type": "execute_result"
    }
   ],
   "source": [
    "# Merge the dataframes on the 'batsman1_name' and 'batsman2_name' columns\n",
    "\n",
    "merged_df = pd.merge(filtered1, filtered2, on=('batsman_name','batting_team'))\n",
    "merged_df"
   ]
  },
  {
   "cell_type": "code",
   "execution_count": 77,
   "id": "88f909e4",
   "metadata": {
    "execution": {
     "iopub.execute_input": "2023-11-21T05:53:07.375725Z",
     "iopub.status.busy": "2023-11-21T05:53:07.375292Z",
     "iopub.status.idle": "2023-11-21T05:53:07.393599Z",
     "shell.execute_reply": "2023-11-21T05:53:07.392461Z"
    },
    "papermill": {
     "duration": 0.042453,
     "end_time": "2023-11-21T05:53:07.396151",
     "exception": false,
     "start_time": "2023-11-21T05:53:07.353698",
     "status": "completed"
    },
    "tags": []
   },
   "outputs": [
    {
     "data": {
      "text/html": [
       "<div>\n",
       "<style scoped>\n",
       "    .dataframe tbody tr th:only-of-type {\n",
       "        vertical-align: middle;\n",
       "    }\n",
       "\n",
       "    .dataframe tbody tr th {\n",
       "        vertical-align: top;\n",
       "    }\n",
       "\n",
       "    .dataframe thead th {\n",
       "        text-align: right;\n",
       "    }\n",
       "</style>\n",
       "<table border=\"1\" class=\"dataframe\">\n",
       "  <thead>\n",
       "    <tr style=\"text-align: right;\">\n",
       "      <th></th>\n",
       "      <th>batting_team</th>\n",
       "      <th>batsman_runs</th>\n",
       "    </tr>\n",
       "    <tr>\n",
       "      <th>batsman_name</th>\n",
       "      <th></th>\n",
       "      <th></th>\n",
       "    </tr>\n",
       "  </thead>\n",
       "  <tbody>\n",
       "    <tr>\n",
       "      <th>Rilee Rossouw</th>\n",
       "      <td>SA</td>\n",
       "      <td>216</td>\n",
       "    </tr>\n",
       "    <tr>\n",
       "      <th>Glenn Phillips</th>\n",
       "      <td>NZ</td>\n",
       "      <td>208</td>\n",
       "    </tr>\n",
       "    <tr>\n",
       "      <th>Devon Conway</th>\n",
       "      <td>NZ</td>\n",
       "      <td>184</td>\n",
       "    </tr>\n",
       "    <tr>\n",
       "      <th>Alex Hales</th>\n",
       "      <td>ENG</td>\n",
       "      <td>172</td>\n",
       "    </tr>\n",
       "    <tr>\n",
       "      <th>Virat Kohli</th>\n",
       "      <td>INDIA</td>\n",
       "      <td>164</td>\n",
       "    </tr>\n",
       "    <tr>\n",
       "      <th>Jos Buttler</th>\n",
       "      <td>ENG</td>\n",
       "      <td>154</td>\n",
       "    </tr>\n",
       "    <tr>\n",
       "      <th>Pathum Nissanka</th>\n",
       "      <td>SL</td>\n",
       "      <td>134</td>\n",
       "    </tr>\n",
       "    <tr>\n",
       "      <th>Suryakumar Yadav</th>\n",
       "      <td>INDIA</td>\n",
       "      <td>134</td>\n",
       "    </tr>\n",
       "    <tr>\n",
       "      <th>Dhananjaya de Silva</th>\n",
       "      <td>SL</td>\n",
       "      <td>126</td>\n",
       "    </tr>\n",
       "  </tbody>\n",
       "</table>\n",
       "</div>"
      ],
      "text/plain": [
       "                    batting_team  batsman_runs\n",
       "batsman_name                                  \n",
       "Rilee Rossouw                 SA           216\n",
       "Glenn Phillips                NZ           208\n",
       "Devon Conway                  NZ           184\n",
       "Alex Hales                   ENG           172\n",
       "Virat Kohli                INDIA           164\n",
       "Jos Buttler                  ENG           154\n",
       "Pathum Nissanka               SL           134\n",
       "Suryakumar Yadav           INDIA           134\n",
       "Dhananjaya de Silva           SL           126"
      ]
     },
     "execution_count": 77,
     "metadata": {},
     "output_type": "execute_result"
    }
   ],
   "source": [
    "#Add the corresponding columns and\n",
    "merged_df['batsman_runs'] = merged_df['batsman1_runs'] + merged_df['batsman2_runs']\n",
    " #Dropping the extra columns\n",
    "merged_df.drop(columns=['batsman1_runs','batsman2_runs'], inplace= True)\n",
    "merged_df \n",
    "\n",
    "# Display the result\n",
    "result = merged_df.groupby('batsman_name').max().sort_values(by='batsman_runs',ascending=False)[:10]\n",
    "result"
   ]
  },
  {
   "cell_type": "markdown",
   "id": "e4d2fb82",
   "metadata": {
    "papermill": {
     "duration": 0.019676,
     "end_time": "2023-11-21T05:53:07.436531",
     "exception": false,
     "start_time": "2023-11-21T05:53:07.416855",
     "status": "completed"
    },
    "tags": []
   },
   "source": [
    "**Highest Score of Every Indian Batsman**"
   ]
  },
  {
   "cell_type": "code",
   "execution_count": 78,
   "id": "18fec658",
   "metadata": {
    "execution": {
     "iopub.execute_input": "2023-11-21T05:53:07.478665Z",
     "iopub.status.busy": "2023-11-21T05:53:07.478221Z",
     "iopub.status.idle": "2023-11-21T05:53:07.501273Z",
     "shell.execute_reply": "2023-11-21T05:53:07.499741Z"
    },
    "papermill": {
     "duration": 0.047534,
     "end_time": "2023-11-21T05:53:07.504145",
     "exception": false,
     "start_time": "2023-11-21T05:53:07.456611",
     "status": "completed"
    },
    "tags": []
   },
   "outputs": [
    {
     "data": {
      "text/html": [
       "<div>\n",
       "<style scoped>\n",
       "    .dataframe tbody tr th:only-of-type {\n",
       "        vertical-align: middle;\n",
       "    }\n",
       "\n",
       "    .dataframe tbody tr th {\n",
       "        vertical-align: top;\n",
       "    }\n",
       "\n",
       "    .dataframe thead th {\n",
       "        text-align: right;\n",
       "    }\n",
       "</style>\n",
       "<table border=\"1\" class=\"dataframe\">\n",
       "  <thead>\n",
       "    <tr style=\"text-align: right;\">\n",
       "      <th></th>\n",
       "      <th>batting_team</th>\n",
       "      <th>batsman1_runs</th>\n",
       "    </tr>\n",
       "    <tr>\n",
       "      <th>batsman1_name</th>\n",
       "      <th></th>\n",
       "      <th></th>\n",
       "    </tr>\n",
       "  </thead>\n",
       "  <tbody>\n",
       "    <tr>\n",
       "      <th>Virat Kohli</th>\n",
       "      <td>INDIA</td>\n",
       "      <td>82</td>\n",
       "    </tr>\n",
       "    <tr>\n",
       "      <th>Suryakumar Yadav</th>\n",
       "      <td>INDIA</td>\n",
       "      <td>68</td>\n",
       "    </tr>\n",
       "    <tr>\n",
       "      <th>Hardik Pandya</th>\n",
       "      <td>INDIA</td>\n",
       "      <td>63</td>\n",
       "    </tr>\n",
       "    <tr>\n",
       "      <th>Rohit Sharma</th>\n",
       "      <td>INDIA</td>\n",
       "      <td>53</td>\n",
       "    </tr>\n",
       "    <tr>\n",
       "      <th>KL Rahul</th>\n",
       "      <td>INDIA</td>\n",
       "      <td>51</td>\n",
       "    </tr>\n",
       "  </tbody>\n",
       "</table>\n",
       "</div>"
      ],
      "text/plain": [
       "                 batting_team  batsman1_runs\n",
       "batsman1_name                               \n",
       "Virat Kohli             INDIA             82\n",
       "Suryakumar Yadav        INDIA             68\n",
       "Hardik Pandya           INDIA             63\n",
       "Rohit Sharma            INDIA             53\n",
       "KL Rahul                INDIA             51"
      ]
     },
     "execution_count": 78,
     "metadata": {},
     "output_type": "execute_result"
    }
   ],
   "source": [
    "df.loc[df['batting_team'] =='INDIA',['batting_team','batsman1_name','batsman1_runs']].groupby('batsman1_name').max().sort_values(by='batsman1_runs',ascending=False)[:5]"
   ]
  },
  {
   "cell_type": "markdown",
   "id": "43fa0884",
   "metadata": {
    "papermill": {
     "duration": 0.019981,
     "end_time": "2023-11-21T05:53:07.544237",
     "exception": false,
     "start_time": "2023-11-21T05:53:07.524256",
     "status": "completed"
    },
    "tags": []
   },
   "source": [
    "**Match-wise batting performance** /n\n",
    "But our aim is to see how these batters have fared in every match they've played in. So, we'll find their cumulative sum:"
   ]
  },
  {
   "cell_type": "code",
   "execution_count": 79,
   "id": "cf86fb86",
   "metadata": {
    "execution": {
     "iopub.execute_input": "2023-11-21T05:53:07.586799Z",
     "iopub.status.busy": "2023-11-21T05:53:07.586372Z",
     "iopub.status.idle": "2023-11-21T05:53:07.601409Z",
     "shell.execute_reply": "2023-11-21T05:53:07.600204Z"
    },
    "papermill": {
     "duration": 0.039561,
     "end_time": "2023-11-21T05:53:07.604010",
     "exception": false,
     "start_time": "2023-11-21T05:53:07.564449",
     "status": "completed"
    },
    "tags": []
   },
   "outputs": [
    {
     "data": {
      "text/plain": [
       "Index(['Virat Kohli', 'Suryakumar Yadav', 'Hardik Pandya', 'KL Rahul',\n",
       "       'Rohit Sharma'],\n",
       "      dtype='object', name='batsman1_name')"
      ]
     },
     "execution_count": 79,
     "metadata": {},
     "output_type": "execute_result"
    }
   ],
   "source": [
    "top_runs = df[['batsman1_name','runs']].loc[df['batting_team']=='INDIA'].groupby('batsman1_name').sum().sort_values(by='runs',ascending=False)[0:5]\n",
    "top_run_getters = top_runs.index\n",
    "top_run_getters"
   ]
  },
  {
   "cell_type": "code",
   "execution_count": 80,
   "id": "c2325b83",
   "metadata": {
    "execution": {
     "iopub.execute_input": "2023-11-21T05:53:07.646944Z",
     "iopub.status.busy": "2023-11-21T05:53:07.645925Z",
     "iopub.status.idle": "2023-11-21T05:53:07.681397Z",
     "shell.execute_reply": "2023-11-21T05:53:07.680020Z"
    },
    "papermill": {
     "duration": 0.060079,
     "end_time": "2023-11-21T05:53:07.684380",
     "exception": false,
     "start_time": "2023-11-21T05:53:07.624301",
     "status": "completed"
    },
    "tags": []
   },
   "outputs": [
    {
     "data": {
      "text/html": [
       "<div>\n",
       "<style scoped>\n",
       "    .dataframe tbody tr th:only-of-type {\n",
       "        vertical-align: middle;\n",
       "    }\n",
       "\n",
       "    .dataframe tbody tr th {\n",
       "        vertical-align: top;\n",
       "    }\n",
       "\n",
       "    .dataframe thead tr th {\n",
       "        text-align: left;\n",
       "    }\n",
       "\n",
       "    .dataframe thead tr:last-of-type th {\n",
       "        text-align: right;\n",
       "    }\n",
       "</style>\n",
       "<table border=\"1\" class=\"dataframe\">\n",
       "  <thead>\n",
       "    <tr>\n",
       "      <th></th>\n",
       "      <th colspan=\"5\" halign=\"left\">batsman1_runs</th>\n",
       "    </tr>\n",
       "    <tr>\n",
       "      <th>batsman1_name</th>\n",
       "      <th>Hardik Pandya</th>\n",
       "      <th>KL Rahul</th>\n",
       "      <th>Rohit Sharma</th>\n",
       "      <th>Suryakumar Yadav</th>\n",
       "      <th>Virat Kohli</th>\n",
       "    </tr>\n",
       "    <tr>\n",
       "      <th>match_name</th>\n",
       "      <th></th>\n",
       "      <th></th>\n",
       "      <th></th>\n",
       "      <th></th>\n",
       "      <th></th>\n",
       "    </tr>\n",
       "  </thead>\n",
       "  <tbody>\n",
       "    <tr>\n",
       "      <th>BAN v INDIA</th>\n",
       "      <td>5.0</td>\n",
       "      <td>50.0</td>\n",
       "      <td>2.0</td>\n",
       "      <td>30.0</td>\n",
       "      <td>64.0</td>\n",
       "    </tr>\n",
       "    <tr>\n",
       "      <th>ENG v INDIA</th>\n",
       "      <td>68.0</td>\n",
       "      <td>55.0</td>\n",
       "      <td>29.0</td>\n",
       "      <td>44.0</td>\n",
       "      <td>114.0</td>\n",
       "    </tr>\n",
       "    <tr>\n",
       "      <th>INDIA v NED</th>\n",
       "      <td>NaN</td>\n",
       "      <td>64.0</td>\n",
       "      <td>82.0</td>\n",
       "      <td>95.0</td>\n",
       "      <td>176.0</td>\n",
       "    </tr>\n",
       "    <tr>\n",
       "      <th>INDIA v PAK</th>\n",
       "      <td>108.0</td>\n",
       "      <td>68.0</td>\n",
       "      <td>86.0</td>\n",
       "      <td>110.0</td>\n",
       "      <td>258.0</td>\n",
       "    </tr>\n",
       "    <tr>\n",
       "      <th>INDIA v SA</th>\n",
       "      <td>110.0</td>\n",
       "      <td>77.0</td>\n",
       "      <td>101.0</td>\n",
       "      <td>178.0</td>\n",
       "      <td>270.0</td>\n",
       "    </tr>\n",
       "    <tr>\n",
       "      <th>INDIA v ZIM</th>\n",
       "      <td>128.0</td>\n",
       "      <td>128.0</td>\n",
       "      <td>116.0</td>\n",
       "      <td>233.0</td>\n",
       "      <td>296.0</td>\n",
       "    </tr>\n",
       "  </tbody>\n",
       "</table>\n",
       "</div>"
      ],
      "text/plain": [
       "              batsman1_runs                                                   \n",
       "batsman1_name Hardik Pandya KL Rahul Rohit Sharma Suryakumar Yadav Virat Kohli\n",
       "match_name                                                                    \n",
       "BAN v INDIA             5.0     50.0          2.0             30.0        64.0\n",
       "ENG v INDIA            68.0     55.0         29.0             44.0       114.0\n",
       "INDIA v NED             NaN     64.0         82.0             95.0       176.0\n",
       "INDIA v PAK           108.0     68.0         86.0            110.0       258.0\n",
       "INDIA v SA            110.0     77.0        101.0            178.0       270.0\n",
       "INDIA v ZIM           128.0    128.0        116.0            233.0       296.0"
      ]
     },
     "execution_count": 80,
     "metadata": {},
     "output_type": "execute_result"
    }
   ],
   "source": [
    "top5_ind = df[['match_name','batsman1_name','batsman1_runs']].loc[(df['batting_team']=='INDIA') & (df['batsman1_name'].isin(top_run_getters))].groupby(['match_name','batsman1_name']).max().sort_index().unstack()\n",
    "top5_ind = top5_ind.cumsum()\n",
    "top5_ind"
   ]
  },
  {
   "cell_type": "code",
   "execution_count": 81,
   "id": "fd4ca9cc",
   "metadata": {
    "execution": {
     "iopub.execute_input": "2023-11-21T05:53:07.727210Z",
     "iopub.status.busy": "2023-11-21T05:53:07.726753Z",
     "iopub.status.idle": "2023-11-21T05:53:08.547532Z",
     "shell.execute_reply": "2023-11-21T05:53:08.546115Z"
    },
    "papermill": {
     "duration": 0.845491,
     "end_time": "2023-11-21T05:53:08.550317",
     "exception": false,
     "start_time": "2023-11-21T05:53:07.704826",
     "status": "completed"
    },
    "tags": []
   },
   "outputs": [
    {
     "data": {
      "image/png": "[encoded data removed]",
      "text/plain": [
       "<Figure size 1000x600 with 1 Axes>"
      ]
     },
     "metadata": {},
     "output_type": "display_data"
    }
   ],
   "source": [
    "plt.figure(figsize=(10,6))\n",
    "plt.plot(top5_ind[('batsman1_runs','Virat Kohli')], label='Virat Kohli', color='Green', linewidth=2)\n",
    "plt.plot(top5_ind[('batsman1_runs','Suryakumar Yadav')], label='Suryakumar Yadav', color='#242F9B', linewidth=2)\n",
    "plt.plot(top5_ind[('batsman1_runs','Hardik Pandya')], label='Hardik Pandya', color='#242F9B', linewidth=2, linestyle=':')\n",
    "plt.plot(top5_ind[('batsman1_runs','KL Rahul')], label='KL Rahul', color='#242F9B', linewidth=2, linestyle='--')\n",
    "plt.plot(top5_ind[('batsman1_runs','Rohit Sharma')], label='Rohit Sharma', color='#FBCB0A', linewidth=2)\n",
    "\n",
    "plt.title(\" India's top 5 run getters \")\n",
    "plt.xticks(rotation=90)\n",
    "plt.xlabel('Versus')\n",
    "plt.ylabel('Total Runs')\n",
    "plt.legend()\n",
    "plt.grid()\n",
    "plt.savefig('India top scorers', bbox_inches='tight')\n",
    "plt.show()"
   ]
  },
  {
   "cell_type": "markdown",
   "id": "d9f8d3e2",
   "metadata": {
    "papermill": {
     "duration": 0.021593,
     "end_time": "2023-11-21T05:53:08.594774",
     "exception": false,
     "start_time": "2023-11-21T05:53:08.573181",
     "status": "completed"
    },
    "tags": []
   },
   "source": [
    "So satisfying to see! Virat has been incredibly consistent with his batting. Suryakumar Yadav has been amazing too with his finishing. "
   ]
  },
  {
   "cell_type": "markdown",
   "id": "b5231dc9",
   "metadata": {
    "papermill": {
     "duration": 0.022721,
     "end_time": "2023-11-21T05:53:08.640305",
     "exception": false,
     "start_time": "2023-11-21T05:53:08.617584",
     "status": "completed"
    },
    "tags": []
   },
   "source": [
    "**Top 10 bowlers in world**"
   ]
  },
  {
   "cell_type": "code",
   "execution_count": 83,
   "id": "2190d025",
   "metadata": {
    "execution": {
     "iopub.execute_input": "2023-11-21T05:53:08.686699Z",
     "iopub.status.busy": "2023-11-21T05:53:08.686229Z",
     "iopub.status.idle": "2023-11-21T05:53:08.803307Z",
     "shell.execute_reply": "2023-11-21T05:53:08.801866Z"
    },
    "papermill": {
     "duration": 0.143865,
     "end_time": "2023-11-21T05:53:08.806311",
     "exception": false,
     "start_time": "2023-11-21T05:53:08.662446",
     "status": "completed"
    },
    "tags": []
   },
   "outputs": [
    {
     "data": {
      "text/html": [
       "<div>\n",
       "<style scoped>\n",
       "    .dataframe tbody tr th:only-of-type {\n",
       "        vertical-align: middle;\n",
       "    }\n",
       "\n",
       "    .dataframe tbody tr th {\n",
       "        vertical-align: top;\n",
       "    }\n",
       "\n",
       "    .dataframe thead th {\n",
       "        text-align: right;\n",
       "    }\n",
       "</style>\n",
       "<table border=\"1\" class=\"dataframe\">\n",
       "  <thead>\n",
       "    <tr style=\"text-align: right;\">\n",
       "      <th></th>\n",
       "      <th>bowling_team</th>\n",
       "      <th>bowler1_wkts</th>\n",
       "    </tr>\n",
       "    <tr>\n",
       "      <th>bowler1_name</th>\n",
       "      <th></th>\n",
       "      <th></th>\n",
       "    </tr>\n",
       "  </thead>\n",
       "  <tbody>\n",
       "    <tr>\n",
       "      <th>Sam Curran</th>\n",
       "      <td>ENG</td>\n",
       "      <td>5</td>\n",
       "    </tr>\n",
       "    <tr>\n",
       "      <th>Trent Boult</th>\n",
       "      <td>NZ</td>\n",
       "      <td>4</td>\n",
       "    </tr>\n",
       "    <tr>\n",
       "      <th>Anrich Nortje</th>\n",
       "      <td>SA</td>\n",
       "      <td>4</td>\n",
       "    </tr>\n",
       "    <tr>\n",
       "      <th>Lungi Ngidi</th>\n",
       "      <td>SA</td>\n",
       "      <td>4</td>\n",
       "    </tr>\n",
       "    <tr>\n",
       "      <th>Shaheen Shah Afridi</th>\n",
       "      <td>PAK</td>\n",
       "      <td>4</td>\n",
       "    </tr>\n",
       "    <tr>\n",
       "      <th>Wayne Parnell</th>\n",
       "      <td>SA</td>\n",
       "      <td>3</td>\n",
       "    </tr>\n",
       "    <tr>\n",
       "      <th>Hardik Pandya</th>\n",
       "      <td>INDIA</td>\n",
       "      <td>3</td>\n",
       "    </tr>\n",
       "    <tr>\n",
       "      <th>Mark Wood</th>\n",
       "      <td>ENG</td>\n",
       "      <td>3</td>\n",
       "    </tr>\n",
       "    <tr>\n",
       "      <th>Mitchell Santner</th>\n",
       "      <td>NZ</td>\n",
       "      <td>3</td>\n",
       "    </tr>\n",
       "    <tr>\n",
       "      <th>Chris Jordan</th>\n",
       "      <td>ENG</td>\n",
       "      <td>3</td>\n",
       "    </tr>\n",
       "  </tbody>\n",
       "</table>\n",
       "</div>"
      ],
      "text/plain": [
       "                    bowling_team  bowler1_wkts\n",
       "bowler1_name                                  \n",
       "Sam Curran                   ENG             5\n",
       "Trent Boult                   NZ             4\n",
       "Anrich Nortje                 SA             4\n",
       "Lungi Ngidi                   SA             4\n",
       "Shaheen Shah Afridi          PAK             4\n",
       "Wayne Parnell                 SA             3\n",
       "Hardik Pandya              INDIA             3\n",
       "Mark Wood                    ENG             3\n",
       "Mitchell Santner              NZ             3\n",
       "Chris Jordan                 ENG             3"
      ]
     },
     "execution_count": 83,
     "metadata": {},
     "output_type": "execute_result"
    }
   ],
   "source": [
    "bowling_df= ['bowling_team','bowler1_name','bowler1_wkts']\n",
    "for i in country:\n",
    "     filtered = filtered_df(df,bowling_df,top10)\n",
    "filtered.groupby('bowler1_name').max().sort_values(by='bowler1_wkts',ascending=False)[:10]"
   ]
  },
  {
   "cell_type": "code",
   "execution_count": 84,
   "id": "198687c5",
   "metadata": {
    "execution": {
     "iopub.execute_input": "2023-11-21T05:53:08.854113Z",
     "iopub.status.busy": "2023-11-21T05:53:08.852976Z",
     "iopub.status.idle": "2023-11-21T05:53:08.873445Z",
     "shell.execute_reply": "2023-11-21T05:53:08.872076Z"
    },
    "papermill": {
     "duration": 0.048086,
     "end_time": "2023-11-21T05:53:08.876559",
     "exception": false,
     "start_time": "2023-11-21T05:53:08.828473",
     "status": "completed"
    },
    "tags": []
   },
   "outputs": [
    {
     "data": {
      "text/html": [
       "<div>\n",
       "<style scoped>\n",
       "    .dataframe tbody tr th:only-of-type {\n",
       "        vertical-align: middle;\n",
       "    }\n",
       "\n",
       "    .dataframe tbody tr th {\n",
       "        vertical-align: top;\n",
       "    }\n",
       "\n",
       "    .dataframe thead th {\n",
       "        text-align: right;\n",
       "    }\n",
       "</style>\n",
       "<table border=\"1\" class=\"dataframe\">\n",
       "  <thead>\n",
       "    <tr style=\"text-align: right;\">\n",
       "      <th></th>\n",
       "      <th>bowling_team</th>\n",
       "      <th>bowler1_wkts</th>\n",
       "    </tr>\n",
       "    <tr>\n",
       "      <th>bowler1_name</th>\n",
       "      <th></th>\n",
       "      <th></th>\n",
       "    </tr>\n",
       "  </thead>\n",
       "  <tbody>\n",
       "    <tr>\n",
       "      <th>Arshdeep Singh</th>\n",
       "      <td>INDIA</td>\n",
       "      <td>3</td>\n",
       "    </tr>\n",
       "    <tr>\n",
       "      <th>Hardik Pandya</th>\n",
       "      <td>INDIA</td>\n",
       "      <td>3</td>\n",
       "    </tr>\n",
       "    <tr>\n",
       "      <th>Ravichandran Ashwin</th>\n",
       "      <td>INDIA</td>\n",
       "      <td>3</td>\n",
       "    </tr>\n",
       "    <tr>\n",
       "      <th>Axar Patel</th>\n",
       "      <td>INDIA</td>\n",
       "      <td>2</td>\n",
       "    </tr>\n",
       "    <tr>\n",
       "      <th>Bhuvneshwar Kumar</th>\n",
       "      <td>INDIA</td>\n",
       "      <td>2</td>\n",
       "    </tr>\n",
       "  </tbody>\n",
       "</table>\n",
       "</div>"
      ],
      "text/plain": [
       "                    bowling_team  bowler1_wkts\n",
       "bowler1_name                                  \n",
       "Arshdeep Singh             INDIA             3\n",
       "Hardik Pandya              INDIA             3\n",
       "Ravichandran Ashwin        INDIA             3\n",
       "Axar Patel                 INDIA             2\n",
       "Bhuvneshwar Kumar          INDIA             2"
      ]
     },
     "execution_count": 84,
     "metadata": {},
     "output_type": "execute_result"
    }
   ],
   "source": [
    "df.loc[df['bowling_team'] =='INDIA',['bowling_team','bowler1_name','bowler1_wkts']].groupby('bowler1_name').max().sort_values(by='bowler1_wkts',ascending=False)[:5]"
   ]
  },
  {
   "cell_type": "markdown",
   "id": "5567a373",
   "metadata": {
    "papermill": {
     "duration": 0.022208,
     "end_time": "2023-11-21T05:53:08.921713",
     "exception": false,
     "start_time": "2023-11-21T05:53:08.899505",
     "status": "completed"
    },
    "tags": []
   },
   "source": [
    "Since our analysis is mostly on INDIA, we create a dataframe containing only INDIA's games:"
   ]
  },
  {
   "cell_type": "code",
   "execution_count": 86,
   "id": "e34b2d6c",
   "metadata": {
    "execution": {
     "iopub.execute_input": "2023-11-21T05:53:08.970957Z",
     "iopub.status.busy": "2023-11-21T05:53:08.970551Z",
     "iopub.status.idle": "2023-11-21T05:53:08.988403Z",
     "shell.execute_reply": "2023-11-21T05:53:08.987109Z"
    },
    "papermill": {
     "duration": 0.044769,
     "end_time": "2023-11-21T05:53:08.990977",
     "exception": false,
     "start_time": "2023-11-21T05:53:08.946208",
     "status": "completed"
    },
    "tags": []
   },
   "outputs": [
    {
     "data": {
      "text/plain": [
       "Index(['comment_id', 'match_id', 'match_name', 'batting_team', 'innings_id',\n",
       "       'over', 'ball', 'runs', 'shortText', 'isBoundary', 'isWide', 'isNoball',\n",
       "       'batsman1_id', 'batsman1_name', 'batsman1_runs', 'batsman1_balls',\n",
       "       'bowler1_id', 'bowler1_name', 'bowler1_overs', 'bowler1_maidens',\n",
       "       'bowler1_runs', 'bowler1_wkts', 'batsman2_id', 'batsman2_name',\n",
       "       'batsman2_runs', 'batsman2_balls', 'bowler2_id', 'bowler2_name',\n",
       "       'bowler2_overs', 'bowler2_maidens', 'bowler2_runs', 'bowler2_wkts',\n",
       "       'wicket_id', 'wkt_batsman_name', 'wkt_bowler_name', 'wkt_batsman_runs',\n",
       "       'wkt_batsman_balls', 'wkt_text', 'isRetiredHurt', 'text', 'preText',\n",
       "       'postText', 'bowling_team'],\n",
       "      dtype='object')"
      ]
     },
     "execution_count": 86,
     "metadata": {},
     "output_type": "execute_result"
    }
   ],
   "source": [
    "IND_results=df.loc[(df['home_team']=='INDIA') | (df['away_team']=='INDIA'), :].copy()\n",
    "IND_results.drop(columns=['home_team','away_team'], inplace= True)\n",
    "IND_results.columns"
   ]
  },
  {
   "cell_type": "markdown",
   "id": "2973dfc3",
   "metadata": {
    "papermill": {
     "duration": 0.023153,
     "end_time": "2023-11-21T05:53:09.037006",
     "exception": false,
     "start_time": "2023-11-21T05:53:09.013853",
     "status": "completed"
    },
    "tags": []
   },
   "source": [
    "Let's now do the same to see India's bowlers performance."
   ]
  },
  {
   "cell_type": "code",
   "execution_count": 88,
   "id": "5723dbe6",
   "metadata": {
    "execution": {
     "iopub.execute_input": "2023-11-21T05:53:09.085555Z",
     "iopub.status.busy": "2023-11-21T05:53:09.085052Z",
     "iopub.status.idle": "2023-11-21T05:53:09.094789Z",
     "shell.execute_reply": "2023-11-21T05:53:09.093827Z"
    },
    "papermill": {
     "duration": 0.036477,
     "end_time": "2023-11-21T05:53:09.097209",
     "exception": false,
     "start_time": "2023-11-21T05:53:09.060732",
     "status": "completed"
    },
    "tags": []
   },
   "outputs": [
    {
     "data": {
      "text/plain": [
       "243     1298178\n",
       "244     1298178\n",
       "245     1298178\n",
       "246     1298178\n",
       "247     1298178\n",
       "         ...   \n",
       "6231    1298150\n",
       "6232    1298150\n",
       "6233    1298150\n",
       "6234    1298150\n",
       "6235    1298150\n",
       "Name: match_id, Length: 1417, dtype: int64"
      ]
     },
     "execution_count": 88,
     "metadata": {},
     "output_type": "execute_result"
    }
   ],
   "source": [
    "ind_match_id=IND_results['match_id']\n",
    "\n",
    "ind_match_id"
   ]
  },
  {
   "cell_type": "markdown",
   "id": "2e694738",
   "metadata": {
    "papermill": {
     "duration": 0.022958,
     "end_time": "2023-11-21T05:53:09.143819",
     "exception": false,
     "start_time": "2023-11-21T05:53:09.120861",
     "status": "completed"
    },
    "tags": []
   },
   "source": [
    "List of all bowlers who bowled more than one ball"
   ]
  },
  {
   "cell_type": "code",
   "execution_count": 89,
   "id": "d6256ac7",
   "metadata": {
    "execution": {
     "iopub.execute_input": "2023-11-21T05:53:09.191838Z",
     "iopub.status.busy": "2023-11-21T05:53:09.191412Z",
     "iopub.status.idle": "2023-11-21T05:53:09.205231Z",
     "shell.execute_reply": "2023-11-21T05:53:09.204004Z"
    },
    "papermill": {
     "duration": 0.041182,
     "end_time": "2023-11-21T05:53:09.208022",
     "exception": false,
     "start_time": "2023-11-21T05:53:09.166840",
     "status": "completed"
    },
    "tags": []
   },
   "outputs": [
    {
     "data": {
      "text/plain": [
       "Index(['Arshdeep Singh', 'Mohammed Shami', 'Ravichandran Ashwin',\n",
       "       'Bhuvneshwar Kumar', 'Hardik Pandya', 'Axar Patel'],\n",
       "      dtype='object', name='bowler1_name')"
      ]
     },
     "execution_count": 89,
     "metadata": {},
     "output_type": "execute_result"
    }
   ],
   "source": [
    "ind_df = df.loc[df['match_id'].isin(ind_match_id)]\n",
    "ind_bowling = ind_df.loc[(ind_df['batting_team']!='INDIA') & (ind_df['wkt_text']!=\"\")]\n",
    "\n",
    "ind_top_bowlers = ind_bowling['bowler1_name'].value_counts()[:].index\n",
    "ind_top_bowlers"
   ]
  },
  {
   "cell_type": "code",
   "execution_count": 90,
   "id": "8c6c1e66",
   "metadata": {
    "execution": {
     "iopub.execute_input": "2023-11-21T05:53:09.256614Z",
     "iopub.status.busy": "2023-11-21T05:53:09.256198Z",
     "iopub.status.idle": "2023-11-21T05:53:09.282147Z",
     "shell.execute_reply": "2023-11-21T05:53:09.281023Z"
    },
    "papermill": {
     "duration": 0.053116,
     "end_time": "2023-11-21T05:53:09.284848",
     "exception": false,
     "start_time": "2023-11-21T05:53:09.231732",
     "status": "completed"
    },
    "tags": []
   },
   "outputs": [
    {
     "data": {
      "text/html": [
       "<div>\n",
       "<style scoped>\n",
       "    .dataframe tbody tr th:only-of-type {\n",
       "        vertical-align: middle;\n",
       "    }\n",
       "\n",
       "    .dataframe tbody tr th {\n",
       "        vertical-align: top;\n",
       "    }\n",
       "\n",
       "    .dataframe thead th {\n",
       "        text-align: right;\n",
       "    }\n",
       "</style>\n",
       "<table border=\"1\" class=\"dataframe\">\n",
       "  <thead>\n",
       "    <tr style=\"text-align: right;\">\n",
       "      <th></th>\n",
       "      <th>comment_id</th>\n",
       "      <th>match_id</th>\n",
       "      <th>match_name</th>\n",
       "      <th>home_team</th>\n",
       "      <th>away_team</th>\n",
       "      <th>batting_team</th>\n",
       "      <th>innings_id</th>\n",
       "      <th>over</th>\n",
       "      <th>ball</th>\n",
       "      <th>runs</th>\n",
       "      <th>...</th>\n",
       "      <th>wkt_batsman_name</th>\n",
       "      <th>wkt_bowler_name</th>\n",
       "      <th>wkt_batsman_runs</th>\n",
       "      <th>wkt_batsman_balls</th>\n",
       "      <th>wkt_text</th>\n",
       "      <th>isRetiredHurt</th>\n",
       "      <th>text</th>\n",
       "      <th>preText</th>\n",
       "      <th>postText</th>\n",
       "      <th>bowling_team</th>\n",
       "    </tr>\n",
       "  </thead>\n",
       "  <tbody>\n",
       "    <tr>\n",
       "      <th>854</th>\n",
       "      <td>23070</td>\n",
       "      <td>1298176</td>\n",
       "      <td>INDIA v ZIM</td>\n",
       "      <td>INDIA</td>\n",
       "      <td>ZIM</td>\n",
       "      <td>ZIM</td>\n",
       "      <td>2</td>\n",
       "      <td>4</td>\n",
       "      <td>6</td>\n",
       "      <td>0</td>\n",
       "      <td>...</td>\n",
       "      <td>NaN</td>\n",
       "      <td>NaN</td>\n",
       "      <td>NaN</td>\n",
       "      <td>NaN</td>\n",
       "      <td>NaN</td>\n",
       "      <td>False</td>\n",
       "      <td>lovely line and length, nip and swing from a f...</td>\n",
       "      <td>NaN</td>\n",
       "      <td>NaN</td>\n",
       "      <td>INDIA</td>\n",
       "    </tr>\n",
       "    <tr>\n",
       "      <th>4960</th>\n",
       "      <td>215060</td>\n",
       "      <td>1298157</td>\n",
       "      <td>INDIA v NED</td>\n",
       "      <td>INDIA</td>\n",
       "      <td>NED</td>\n",
       "      <td>NED</td>\n",
       "      <td>2</td>\n",
       "      <td>16</td>\n",
       "      <td>6</td>\n",
       "      <td>0</td>\n",
       "      <td>...</td>\n",
       "      <td>NaN</td>\n",
       "      <td>NaN</td>\n",
       "      <td>NaN</td>\n",
       "      <td>NaN</td>\n",
       "      <td>NaN</td>\n",
       "      <td>False</td>\n",
       "      <td>length ball outside off, jags away off the dec...</td>\n",
       "      <td>NaN</td>\n",
       "      <td>NaN</td>\n",
       "      <td>INDIA</td>\n",
       "    </tr>\n",
       "    <tr>\n",
       "      <th>6079</th>\n",
       "      <td>114070</td>\n",
       "      <td>1298150</td>\n",
       "      <td>INDIA v PAK</td>\n",
       "      <td>PAK</td>\n",
       "      <td>INDIA</td>\n",
       "      <td>PAK</td>\n",
       "      <td>1</td>\n",
       "      <td>15</td>\n",
       "      <td>6</td>\n",
       "      <td>1</td>\n",
       "      <td>...</td>\n",
       "      <td>NaN</td>\n",
       "      <td>NaN</td>\n",
       "      <td>NaN</td>\n",
       "      <td>NaN</td>\n",
       "      <td>NaN</td>\n",
       "      <td>False</td>\n",
       "      <td>looks to create room and Ashwin follows with a...</td>\n",
       "      <td>NaN</td>\n",
       "      <td>NaN</td>\n",
       "      <td>INDIA</td>\n",
       "    </tr>\n",
       "    <tr>\n",
       "      <th>837</th>\n",
       "      <td>21050</td>\n",
       "      <td>1298176</td>\n",
       "      <td>INDIA v ZIM</td>\n",
       "      <td>INDIA</td>\n",
       "      <td>ZIM</td>\n",
       "      <td>ZIM</td>\n",
       "      <td>2</td>\n",
       "      <td>2</td>\n",
       "      <td>4</td>\n",
       "      <td>0</td>\n",
       "      <td>...</td>\n",
       "      <td>Regis Chakabva</td>\n",
       "      <td>Arshdeep Singh</td>\n",
       "      <td>0.0</td>\n",
       "      <td>6.0</td>\n",
       "      <td>RW Chakabva  b Arshdeep Singh 0 (9m 6b 0x4 0x6...</td>\n",
       "      <td>False</td>\n",
       "      <td>&lt;B&gt;ping! Next batter please!&lt;/B&gt; Exceptional b...</td>\n",
       "      <td>NaN</td>\n",
       "      <td>&lt;p&gt;Susan: \"I think both team are playing 18.3 ...</td>\n",
       "      <td>INDIA</td>\n",
       "    </tr>\n",
       "    <tr>\n",
       "      <th>6097</th>\n",
       "      <td>117050</td>\n",
       "      <td>1298150</td>\n",
       "      <td>INDIA v PAK</td>\n",
       "      <td>PAK</td>\n",
       "      <td>INDIA</td>\n",
       "      <td>PAK</td>\n",
       "      <td>1</td>\n",
       "      <td>18</td>\n",
       "      <td>5</td>\n",
       "      <td>1</td>\n",
       "      <td>...</td>\n",
       "      <td>NaN</td>\n",
       "      <td>NaN</td>\n",
       "      <td>NaN</td>\n",
       "      <td>NaN</td>\n",
       "      <td>NaN</td>\n",
       "      <td>False</td>\n",
       "      <td>full, angling down leg, flicked to the left of...</td>\n",
       "      <td>NaN</td>\n",
       "      <td>NaN</td>\n",
       "      <td>INDIA</td>\n",
       "    </tr>\n",
       "  </tbody>\n",
       "</table>\n",
       "<p>5 rows × 45 columns</p>\n",
       "</div>"
      ],
      "text/plain": [
       "      comment_id  match_id   match_name home_team away_team batting_team  \\\n",
       "854        23070   1298176  INDIA v ZIM     INDIA       ZIM          ZIM   \n",
       "4960      215060   1298157  INDIA v NED     INDIA       NED          NED   \n",
       "6079      114070   1298150  INDIA v PAK       PAK     INDIA          PAK   \n",
       "837        21050   1298176  INDIA v ZIM     INDIA       ZIM          ZIM   \n",
       "6097      117050   1298150  INDIA v PAK       PAK     INDIA          PAK   \n",
       "\n",
       "      innings_id  over  ball  runs  ... wkt_batsman_name  wkt_bowler_name  \\\n",
       "854            2     4     6     0  ...              NaN              NaN   \n",
       "4960           2    16     6     0  ...              NaN              NaN   \n",
       "6079           1    15     6     1  ...              NaN              NaN   \n",
       "837            2     2     4     0  ...   Regis Chakabva   Arshdeep Singh   \n",
       "6097           1    18     5     1  ...              NaN              NaN   \n",
       "\n",
       "      wkt_batsman_runs  wkt_batsman_balls  \\\n",
       "854                NaN                NaN   \n",
       "4960               NaN                NaN   \n",
       "6079               NaN                NaN   \n",
       "837                0.0                6.0   \n",
       "6097               NaN                NaN   \n",
       "\n",
       "                                               wkt_text isRetiredHurt  \\\n",
       "854                                                 NaN         False   \n",
       "4960                                                NaN         False   \n",
       "6079                                                NaN         False   \n",
       "837   RW Chakabva  b Arshdeep Singh 0 (9m 6b 0x4 0x6...         False   \n",
       "6097                                                NaN         False   \n",
       "\n",
       "                                                   text  preText  \\\n",
       "854   lovely line and length, nip and swing from a f...      NaN   \n",
       "4960  length ball outside off, jags away off the dec...      NaN   \n",
       "6079  looks to create room and Ashwin follows with a...      NaN   \n",
       "837   <B>ping! Next batter please!</B> Exceptional b...      NaN   \n",
       "6097  full, angling down leg, flicked to the left of...      NaN   \n",
       "\n",
       "                                               postText bowling_team  \n",
       "854                                                 NaN        INDIA  \n",
       "4960                                                NaN        INDIA  \n",
       "6079                                                NaN        INDIA  \n",
       "837   <p>Susan: \"I think both team are playing 18.3 ...        INDIA  \n",
       "6097                                                NaN        INDIA  \n",
       "\n",
       "[5 rows x 45 columns]"
      ]
     },
     "execution_count": 90,
     "metadata": {},
     "output_type": "execute_result"
    }
   ],
   "source": [
    "ind_bowling.sample(5)"
   ]
  },
  {
   "cell_type": "code",
   "execution_count": 91,
   "id": "726c51b7",
   "metadata": {
    "execution": {
     "iopub.execute_input": "2023-11-21T05:53:09.334477Z",
     "iopub.status.busy": "2023-11-21T05:53:09.333821Z",
     "iopub.status.idle": "2023-11-21T05:53:09.361015Z",
     "shell.execute_reply": "2023-11-21T05:53:09.359496Z"
    },
    "papermill": {
     "duration": 0.0551,
     "end_time": "2023-11-21T05:53:09.363627",
     "exception": false,
     "start_time": "2023-11-21T05:53:09.308527",
     "status": "completed"
    },
    "tags": []
   },
   "outputs": [
    {
     "data": {
      "text/html": [
       "<div>\n",
       "<style scoped>\n",
       "    .dataframe tbody tr th:only-of-type {\n",
       "        vertical-align: middle;\n",
       "    }\n",
       "\n",
       "    .dataframe tbody tr th {\n",
       "        vertical-align: top;\n",
       "    }\n",
       "\n",
       "    .dataframe thead tr th {\n",
       "        text-align: left;\n",
       "    }\n",
       "\n",
       "    .dataframe thead tr:last-of-type th {\n",
       "        text-align: right;\n",
       "    }\n",
       "</style>\n",
       "<table border=\"1\" class=\"dataframe\">\n",
       "  <thead>\n",
       "    <tr>\n",
       "      <th></th>\n",
       "      <th colspan=\"6\" halign=\"left\">bowler1_wkts</th>\n",
       "    </tr>\n",
       "    <tr>\n",
       "      <th>bowler1_name</th>\n",
       "      <th>Arshdeep Singh</th>\n",
       "      <th>Axar Patel</th>\n",
       "      <th>Bhuvneshwar Kumar</th>\n",
       "      <th>Hardik Pandya</th>\n",
       "      <th>Mohammed Shami</th>\n",
       "      <th>Ravichandran Ashwin</th>\n",
       "    </tr>\n",
       "    <tr>\n",
       "      <th>match_id</th>\n",
       "      <th></th>\n",
       "      <th></th>\n",
       "      <th></th>\n",
       "      <th></th>\n",
       "      <th></th>\n",
       "      <th></th>\n",
       "    </tr>\n",
       "  </thead>\n",
       "  <tbody>\n",
       "    <tr>\n",
       "      <th>1298150</th>\n",
       "      <td>3.0</td>\n",
       "      <td>0.0</td>\n",
       "      <td>1.0</td>\n",
       "      <td>3.0</td>\n",
       "      <td>1.0</td>\n",
       "      <td>0.0</td>\n",
       "    </tr>\n",
       "    <tr>\n",
       "      <th>1298157</th>\n",
       "      <td>5.0</td>\n",
       "      <td>2.0</td>\n",
       "      <td>3.0</td>\n",
       "      <td>3.0</td>\n",
       "      <td>2.0</td>\n",
       "      <td>2.0</td>\n",
       "    </tr>\n",
       "    <tr>\n",
       "      <th>1298164</th>\n",
       "      <td>7.0</td>\n",
       "      <td>NaN</td>\n",
       "      <td>3.0</td>\n",
       "      <td>4.0</td>\n",
       "      <td>3.0</td>\n",
       "      <td>3.0</td>\n",
       "    </tr>\n",
       "    <tr>\n",
       "      <th>1298169</th>\n",
       "      <td>9.0</td>\n",
       "      <td>2.0</td>\n",
       "      <td>3.0</td>\n",
       "      <td>6.0</td>\n",
       "      <td>4.0</td>\n",
       "      <td>3.0</td>\n",
       "    </tr>\n",
       "    <tr>\n",
       "      <th>1298176</th>\n",
       "      <td>10.0</td>\n",
       "      <td>3.0</td>\n",
       "      <td>4.0</td>\n",
       "      <td>8.0</td>\n",
       "      <td>6.0</td>\n",
       "      <td>6.0</td>\n",
       "    </tr>\n",
       "    <tr>\n",
       "      <th>1298178</th>\n",
       "      <td>10.0</td>\n",
       "      <td>3.0</td>\n",
       "      <td>4.0</td>\n",
       "      <td>8.0</td>\n",
       "      <td>6.0</td>\n",
       "      <td>6.0</td>\n",
       "    </tr>\n",
       "  </tbody>\n",
       "</table>\n",
       "</div>"
      ],
      "text/plain": [
       "               bowler1_wkts                                             \\\n",
       "bowler1_name Arshdeep Singh Axar Patel Bhuvneshwar Kumar Hardik Pandya   \n",
       "match_id                                                                 \n",
       "1298150                 3.0        0.0               1.0           3.0   \n",
       "1298157                 5.0        2.0               3.0           3.0   \n",
       "1298164                 7.0        NaN               3.0           4.0   \n",
       "1298169                 9.0        2.0               3.0           6.0   \n",
       "1298176                10.0        3.0               4.0           8.0   \n",
       "1298178                10.0        3.0               4.0           8.0   \n",
       "\n",
       "                                                 \n",
       "bowler1_name Mohammed Shami Ravichandran Ashwin  \n",
       "match_id                                         \n",
       "1298150                 1.0                 0.0  \n",
       "1298157                 2.0                 2.0  \n",
       "1298164                 3.0                 3.0  \n",
       "1298169                 4.0                 3.0  \n",
       "1298176                 6.0                 6.0  \n",
       "1298178                 6.0                 6.0  "
      ]
     },
     "execution_count": 91,
     "metadata": {},
     "output_type": "execute_result"
    }
   ],
   "source": [
    "ind_bowling = ind_bowling.loc[ind_bowling['bowler1_name'].isin(ind_top_bowlers)]\n",
    "ind_bowling = ind_bowling[['match_id','bowler1_name','bowler1_wkts']].groupby(['match_id','bowler1_name']).max().unstack()\n",
    "ind_bowling=ind_bowling.cumsum()\n",
    "ind_bowling"
   ]
  },
  {
   "cell_type": "code",
   "execution_count": 92,
   "id": "7c53d305",
   "metadata": {
    "execution": {
     "iopub.execute_input": "2023-11-21T05:53:09.411987Z",
     "iopub.status.busy": "2023-11-21T05:53:09.411380Z",
     "iopub.status.idle": "2023-11-21T05:53:09.807036Z",
     "shell.execute_reply": "2023-11-21T05:53:09.805674Z"
    },
    "papermill": {
     "duration": 0.423492,
     "end_time": "2023-11-21T05:53:09.810281",
     "exception": false,
     "start_time": "2023-11-21T05:53:09.386789",
     "status": "completed"
    },
    "tags": []
   },
   "outputs": [
    {
     "data": {
      "image/png": "[encoded data removed]",
      "text/plain": [
       "<Figure size 1000x600 with 1 Axes>"
      ]
     },
     "metadata": {},
     "output_type": "display_data"
    }
   ],
   "source": [
    "plt.figure(figsize=(10,6))\n",
    "# plt.style.use('seaborn')\n",
    "plt.plot(ind_bowling['bowler1_wkts','Arshdeep Singh'],color='#06283D',linewidth=2, label='Arshdeep Singh')\n",
    "plt.plot(ind_bowling['bowler1_wkts','Axar Patel'],color='#FFA500',linewidth=2, label='Axar Patel')\n",
    "plt.plot(ind_bowling['bowler1_wkts','Bhuvneshwar Kumar'],color='#1363DF',linewidth=2, label='Bhuvneshwar Kumar')\n",
    "plt.plot(ind_bowling['bowler1_wkts','Hardik Pandya'],color='#1363DF',linewidth=2, linestyle='--', label='Hardik Pandya')\n",
    "plt.plot(ind_bowling['bowler1_wkts','Mohammed Shami'],color='#FFA500',linestyle='--',linewidth=2, label='Mohammed Shami')\n",
    "plt.xlabel('versus')\n",
    "plt.ylabel('Total wickets')\n",
    "plt.xticks(rotation=90)\n",
    "plt.title(\"How India's top 5 wicket takers\")\n",
    "plt.legend()\n",
    "plt.grid(True)\n",
    "# plt.savefig('top wicket takers.png',bbox_inches='tight')\n",
    "plt.show()"
   ]
  },
  {
   "cell_type": "markdown",
   "id": "a2bedf00",
   "metadata": {
    "papermill": {
     "duration": 0.024828,
     "end_time": "2023-11-21T05:53:09.860255",
     "exception": false,
     "start_time": "2023-11-21T05:53:09.835427",
     "status": "completed"
    },
    "tags": []
   },
   "source": [
    "Arshdeep Singh stands out by a mile! He's been INDIA's best bowling asset this season. Hardik Pandya had a decent run in this season too."
   ]
  },
  {
   "cell_type": "markdown",
   "id": "57830293",
   "metadata": {
    "papermill": {
     "duration": 0.025185,
     "end_time": "2023-11-21T05:53:09.910722",
     "exception": false,
     "start_time": "2023-11-21T05:53:09.885537",
     "status": "completed"
    },
    "tags": []
   },
   "source": [
    "**Wicket Analysis**"
   ]
  },
  {
   "cell_type": "code",
   "execution_count": 93,
   "id": "f3734fef",
   "metadata": {
    "execution": {
     "iopub.execute_input": "2023-11-21T05:53:09.966215Z",
     "iopub.status.busy": "2023-11-21T05:53:09.965753Z",
     "iopub.status.idle": "2023-11-21T05:53:09.995063Z",
     "shell.execute_reply": "2023-11-21T05:53:09.993872Z"
    },
    "papermill": {
     "duration": 0.059697,
     "end_time": "2023-11-21T05:53:09.997781",
     "exception": false,
     "start_time": "2023-11-21T05:53:09.938084",
     "status": "completed"
    },
    "tags": []
   },
   "outputs": [
    {
     "data": {
      "text/html": [
       "<div>\n",
       "<style scoped>\n",
       "    .dataframe tbody tr th:only-of-type {\n",
       "        vertical-align: middle;\n",
       "    }\n",
       "\n",
       "    .dataframe tbody tr th {\n",
       "        vertical-align: top;\n",
       "    }\n",
       "\n",
       "    .dataframe thead th {\n",
       "        text-align: right;\n",
       "    }\n",
       "</style>\n",
       "<table border=\"1\" class=\"dataframe\">\n",
       "  <thead>\n",
       "    <tr style=\"text-align: right;\">\n",
       "      <th></th>\n",
       "      <th>match_id</th>\n",
       "      <th>match_name</th>\n",
       "      <th>batting_team</th>\n",
       "      <th>bowling_team</th>\n",
       "      <th>wicket_id</th>\n",
       "      <th>wkt_batsman_name</th>\n",
       "      <th>wkt_bowler_name</th>\n",
       "      <th>wkt_batsman_runs</th>\n",
       "      <th>wkt_batsman_balls</th>\n",
       "      <th>wkt_text</th>\n",
       "    </tr>\n",
       "  </thead>\n",
       "  <tbody>\n",
       "    <tr>\n",
       "      <th>0</th>\n",
       "      <td>1298179</td>\n",
       "      <td>ENG v PAK</td>\n",
       "      <td>PAK</td>\n",
       "      <td>ENG</td>\n",
       "      <td>NaN</td>\n",
       "      <td>NaN</td>\n",
       "      <td>NaN</td>\n",
       "      <td>NaN</td>\n",
       "      <td>NaN</td>\n",
       "      <td>NaN</td>\n",
       "    </tr>\n",
       "    <tr>\n",
       "      <th>1</th>\n",
       "      <td>1298179</td>\n",
       "      <td>ENG v PAK</td>\n",
       "      <td>PAK</td>\n",
       "      <td>ENG</td>\n",
       "      <td>NaN</td>\n",
       "      <td>NaN</td>\n",
       "      <td>NaN</td>\n",
       "      <td>NaN</td>\n",
       "      <td>NaN</td>\n",
       "      <td>NaN</td>\n",
       "    </tr>\n",
       "    <tr>\n",
       "      <th>2</th>\n",
       "      <td>1298179</td>\n",
       "      <td>ENG v PAK</td>\n",
       "      <td>PAK</td>\n",
       "      <td>ENG</td>\n",
       "      <td>NaN</td>\n",
       "      <td>NaN</td>\n",
       "      <td>NaN</td>\n",
       "      <td>NaN</td>\n",
       "      <td>NaN</td>\n",
       "      <td>NaN</td>\n",
       "    </tr>\n",
       "    <tr>\n",
       "      <th>3</th>\n",
       "      <td>1298179</td>\n",
       "      <td>ENG v PAK</td>\n",
       "      <td>PAK</td>\n",
       "      <td>ENG</td>\n",
       "      <td>NaN</td>\n",
       "      <td>NaN</td>\n",
       "      <td>NaN</td>\n",
       "      <td>NaN</td>\n",
       "      <td>NaN</td>\n",
       "      <td>NaN</td>\n",
       "    </tr>\n",
       "    <tr>\n",
       "      <th>4</th>\n",
       "      <td>1298179</td>\n",
       "      <td>ENG v PAK</td>\n",
       "      <td>PAK</td>\n",
       "      <td>ENG</td>\n",
       "      <td>NaN</td>\n",
       "      <td>NaN</td>\n",
       "      <td>NaN</td>\n",
       "      <td>NaN</td>\n",
       "      <td>NaN</td>\n",
       "      <td>NaN</td>\n",
       "    </tr>\n",
       "    <tr>\n",
       "      <th>...</th>\n",
       "      <td>...</td>\n",
       "      <td>...</td>\n",
       "      <td>...</td>\n",
       "      <td>...</td>\n",
       "      <td>...</td>\n",
       "      <td>...</td>\n",
       "      <td>...</td>\n",
       "      <td>...</td>\n",
       "      <td>...</td>\n",
       "      <td>...</td>\n",
       "    </tr>\n",
       "    <tr>\n",
       "      <th>9809</th>\n",
       "      <td>1298135</td>\n",
       "      <td>NAM v SL</td>\n",
       "      <td>SL</td>\n",
       "      <td>NAM</td>\n",
       "      <td>NaN</td>\n",
       "      <td>NaN</td>\n",
       "      <td>NaN</td>\n",
       "      <td>NaN</td>\n",
       "      <td>NaN</td>\n",
       "      <td>NaN</td>\n",
       "    </tr>\n",
       "    <tr>\n",
       "      <th>9810</th>\n",
       "      <td>1298135</td>\n",
       "      <td>NAM v SL</td>\n",
       "      <td>SL</td>\n",
       "      <td>NAM</td>\n",
       "      <td>NaN</td>\n",
       "      <td>NaN</td>\n",
       "      <td>NaN</td>\n",
       "      <td>NaN</td>\n",
       "      <td>NaN</td>\n",
       "      <td>NaN</td>\n",
       "    </tr>\n",
       "    <tr>\n",
       "      <th>9811</th>\n",
       "      <td>1298135</td>\n",
       "      <td>NAM v SL</td>\n",
       "      <td>SL</td>\n",
       "      <td>NAM</td>\n",
       "      <td>NaN</td>\n",
       "      <td>NaN</td>\n",
       "      <td>NaN</td>\n",
       "      <td>NaN</td>\n",
       "      <td>NaN</td>\n",
       "      <td>NaN</td>\n",
       "    </tr>\n",
       "    <tr>\n",
       "      <th>9812</th>\n",
       "      <td>1298135</td>\n",
       "      <td>NAM v SL</td>\n",
       "      <td>SL</td>\n",
       "      <td>NAM</td>\n",
       "      <td>NaN</td>\n",
       "      <td>NaN</td>\n",
       "      <td>NaN</td>\n",
       "      <td>NaN</td>\n",
       "      <td>NaN</td>\n",
       "      <td>NaN</td>\n",
       "    </tr>\n",
       "    <tr>\n",
       "      <th>9813</th>\n",
       "      <td>1298135</td>\n",
       "      <td>NAM v SL</td>\n",
       "      <td>SL</td>\n",
       "      <td>NAM</td>\n",
       "      <td>552152.0</td>\n",
       "      <td>Dushmantha Chameera</td>\n",
       "      <td>David Wiese</td>\n",
       "      <td>8.0</td>\n",
       "      <td>15.0</td>\n",
       "      <td>PVD Chameera c Erasmus b Wiese 8 (20m 15b 0x4 ...</td>\n",
       "    </tr>\n",
       "  </tbody>\n",
       "</table>\n",
       "<p>9813 rows × 10 columns</p>\n",
       "</div>"
      ],
      "text/plain": [
       "      match_id match_name batting_team bowling_team  wicket_id  \\\n",
       "0      1298179  ENG v PAK          PAK          ENG        NaN   \n",
       "1      1298179  ENG v PAK          PAK          ENG        NaN   \n",
       "2      1298179  ENG v PAK          PAK          ENG        NaN   \n",
       "3      1298179  ENG v PAK          PAK          ENG        NaN   \n",
       "4      1298179  ENG v PAK          PAK          ENG        NaN   \n",
       "...        ...        ...          ...          ...        ...   \n",
       "9809   1298135   NAM v SL           SL          NAM        NaN   \n",
       "9810   1298135   NAM v SL           SL          NAM        NaN   \n",
       "9811   1298135   NAM v SL           SL          NAM        NaN   \n",
       "9812   1298135   NAM v SL           SL          NAM        NaN   \n",
       "9813   1298135   NAM v SL           SL          NAM   552152.0   \n",
       "\n",
       "         wkt_batsman_name wkt_bowler_name  wkt_batsman_runs  \\\n",
       "0                     NaN             NaN               NaN   \n",
       "1                     NaN             NaN               NaN   \n",
       "2                     NaN             NaN               NaN   \n",
       "3                     NaN             NaN               NaN   \n",
       "4                     NaN             NaN               NaN   \n",
       "...                   ...             ...               ...   \n",
       "9809                  NaN             NaN               NaN   \n",
       "9810                  NaN             NaN               NaN   \n",
       "9811                  NaN             NaN               NaN   \n",
       "9812                  NaN             NaN               NaN   \n",
       "9813  Dushmantha Chameera     David Wiese               8.0   \n",
       "\n",
       "      wkt_batsman_balls                                           wkt_text  \n",
       "0                   NaN                                                NaN  \n",
       "1                   NaN                                                NaN  \n",
       "2                   NaN                                                NaN  \n",
       "3                   NaN                                                NaN  \n",
       "4                   NaN                                                NaN  \n",
       "...                 ...                                                ...  \n",
       "9809                NaN                                                NaN  \n",
       "9810                NaN                                                NaN  \n",
       "9811                NaN                                                NaN  \n",
       "9812                NaN                                                NaN  \n",
       "9813               15.0  PVD Chameera c Erasmus b Wiese 8 (20m 15b 0x4 ...  \n",
       "\n",
       "[9813 rows x 10 columns]"
      ]
     },
     "execution_count": 93,
     "metadata": {},
     "output_type": "execute_result"
    }
   ],
   "source": [
    "wkt_df= df[['match_id','match_name','batting_team','bowling_team','wicket_id', 'wkt_batsman_name', 'wkt_bowler_name', 'wkt_batsman_runs',\n",
    "       'wkt_batsman_balls', 'wkt_text']]\n",
    "wkt_df"
   ]
  },
  {
   "cell_type": "code",
   "execution_count": 95,
   "id": "8ac216b0",
   "metadata": {
    "execution": {
     "iopub.execute_input": "2023-11-21T05:53:10.052366Z",
     "iopub.status.busy": "2023-11-21T05:53:10.051235Z",
     "iopub.status.idle": "2023-11-21T05:53:10.083293Z",
     "shell.execute_reply": "2023-11-21T05:53:10.082151Z"
    },
    "papermill": {
     "duration": 0.062754,
     "end_time": "2023-11-21T05:53:10.086115",
     "exception": false,
     "start_time": "2023-11-21T05:53:10.023361",
     "status": "completed"
    },
    "tags": []
   },
   "outputs": [
    {
     "data": {
      "text/html": [
       "<div>\n",
       "<style scoped>\n",
       "    .dataframe tbody tr th:only-of-type {\n",
       "        vertical-align: middle;\n",
       "    }\n",
       "\n",
       "    .dataframe tbody tr th {\n",
       "        vertical-align: top;\n",
       "    }\n",
       "\n",
       "    .dataframe thead th {\n",
       "        text-align: right;\n",
       "    }\n",
       "</style>\n",
       "<table border=\"1\" class=\"dataframe\">\n",
       "  <thead>\n",
       "    <tr style=\"text-align: right;\">\n",
       "      <th></th>\n",
       "      <th>match_id</th>\n",
       "      <th>match_name</th>\n",
       "      <th>batting_team</th>\n",
       "      <th>bowling_team</th>\n",
       "      <th>wicket_id</th>\n",
       "      <th>wkt_batsman_name</th>\n",
       "      <th>wkt_bowler_name</th>\n",
       "      <th>wkt_batsman_runs</th>\n",
       "      <th>wkt_batsman_balls</th>\n",
       "      <th>wkt_text</th>\n",
       "    </tr>\n",
       "  </thead>\n",
       "  <tbody>\n",
       "    <tr>\n",
       "      <th>0</th>\n",
       "      <td>1298179</td>\n",
       "      <td>ENG v PAK</td>\n",
       "      <td>PAK</td>\n",
       "      <td>ENG</td>\n",
       "      <td>NaN</td>\n",
       "      <td>NaN</td>\n",
       "      <td>NaN</td>\n",
       "      <td>NaN</td>\n",
       "      <td>NaN</td>\n",
       "      <td>NaN</td>\n",
       "    </tr>\n",
       "    <tr>\n",
       "      <th>1</th>\n",
       "      <td>1298179</td>\n",
       "      <td>ENG v PAK</td>\n",
       "      <td>PAK</td>\n",
       "      <td>ENG</td>\n",
       "      <td>NaN</td>\n",
       "      <td>NaN</td>\n",
       "      <td>NaN</td>\n",
       "      <td>NaN</td>\n",
       "      <td>NaN</td>\n",
       "      <td>NaN</td>\n",
       "    </tr>\n",
       "    <tr>\n",
       "      <th>2</th>\n",
       "      <td>1298179</td>\n",
       "      <td>ENG v PAK</td>\n",
       "      <td>PAK</td>\n",
       "      <td>ENG</td>\n",
       "      <td>NaN</td>\n",
       "      <td>NaN</td>\n",
       "      <td>NaN</td>\n",
       "      <td>NaN</td>\n",
       "      <td>NaN</td>\n",
       "      <td>NaN</td>\n",
       "    </tr>\n",
       "    <tr>\n",
       "      <th>3</th>\n",
       "      <td>1298179</td>\n",
       "      <td>ENG v PAK</td>\n",
       "      <td>PAK</td>\n",
       "      <td>ENG</td>\n",
       "      <td>NaN</td>\n",
       "      <td>NaN</td>\n",
       "      <td>NaN</td>\n",
       "      <td>NaN</td>\n",
       "      <td>NaN</td>\n",
       "      <td>NaN</td>\n",
       "    </tr>\n",
       "    <tr>\n",
       "      <th>4</th>\n",
       "      <td>1298179</td>\n",
       "      <td>ENG v PAK</td>\n",
       "      <td>PAK</td>\n",
       "      <td>ENG</td>\n",
       "      <td>NaN</td>\n",
       "      <td>NaN</td>\n",
       "      <td>NaN</td>\n",
       "      <td>NaN</td>\n",
       "      <td>NaN</td>\n",
       "      <td>NaN</td>\n",
       "    </tr>\n",
       "    <tr>\n",
       "      <th>...</th>\n",
       "      <td>...</td>\n",
       "      <td>...</td>\n",
       "      <td>...</td>\n",
       "      <td>...</td>\n",
       "      <td>...</td>\n",
       "      <td>...</td>\n",
       "      <td>...</td>\n",
       "      <td>...</td>\n",
       "      <td>...</td>\n",
       "      <td>...</td>\n",
       "    </tr>\n",
       "    <tr>\n",
       "      <th>6912</th>\n",
       "      <td>1298147</td>\n",
       "      <td>AUS v NZ</td>\n",
       "      <td>AUS</td>\n",
       "      <td>NZ</td>\n",
       "      <td>379504.0</td>\n",
       "      <td>Adam Zampa</td>\n",
       "      <td>Trent Boult</td>\n",
       "      <td>0.0</td>\n",
       "      <td>2.0</td>\n",
       "      <td>A Zampa  b Boult 0 (3m 2b 0x4 0x6) SR: 0.00</td>\n",
       "    </tr>\n",
       "    <tr>\n",
       "      <th>6913</th>\n",
       "      <td>1298147</td>\n",
       "      <td>AUS v NZ</td>\n",
       "      <td>AUS</td>\n",
       "      <td>NZ</td>\n",
       "      <td>NaN</td>\n",
       "      <td>NaN</td>\n",
       "      <td>NaN</td>\n",
       "      <td>NaN</td>\n",
       "      <td>NaN</td>\n",
       "      <td>NaN</td>\n",
       "    </tr>\n",
       "    <tr>\n",
       "      <th>6914</th>\n",
       "      <td>1298147</td>\n",
       "      <td>AUS v NZ</td>\n",
       "      <td>AUS</td>\n",
       "      <td>NZ</td>\n",
       "      <td>NaN</td>\n",
       "      <td>NaN</td>\n",
       "      <td>NaN</td>\n",
       "      <td>NaN</td>\n",
       "      <td>NaN</td>\n",
       "      <td>NaN</td>\n",
       "    </tr>\n",
       "    <tr>\n",
       "      <th>6915</th>\n",
       "      <td>1298147</td>\n",
       "      <td>AUS v NZ</td>\n",
       "      <td>AUS</td>\n",
       "      <td>NZ</td>\n",
       "      <td>NaN</td>\n",
       "      <td>NaN</td>\n",
       "      <td>NaN</td>\n",
       "      <td>NaN</td>\n",
       "      <td>NaN</td>\n",
       "      <td>NaN</td>\n",
       "    </tr>\n",
       "    <tr>\n",
       "      <th>6916</th>\n",
       "      <td>1298147</td>\n",
       "      <td>AUS v NZ</td>\n",
       "      <td>AUS</td>\n",
       "      <td>NZ</td>\n",
       "      <td>489889.0</td>\n",
       "      <td>Pat Cummins</td>\n",
       "      <td>Tim Southee</td>\n",
       "      <td>21.0</td>\n",
       "      <td>18.0</td>\n",
       "      <td>PJ Cummins c &amp;dagger;Conway b Southee 21 (27m ...</td>\n",
       "    </tr>\n",
       "  </tbody>\n",
       "</table>\n",
       "<p>4005 rows × 10 columns</p>\n",
       "</div>"
      ],
      "text/plain": [
       "      match_id match_name batting_team bowling_team  wicket_id  \\\n",
       "0      1298179  ENG v PAK          PAK          ENG        NaN   \n",
       "1      1298179  ENG v PAK          PAK          ENG        NaN   \n",
       "2      1298179  ENG v PAK          PAK          ENG        NaN   \n",
       "3      1298179  ENG v PAK          PAK          ENG        NaN   \n",
       "4      1298179  ENG v PAK          PAK          ENG        NaN   \n",
       "...        ...        ...          ...          ...        ...   \n",
       "6912   1298147   AUS v NZ          AUS           NZ   379504.0   \n",
       "6913   1298147   AUS v NZ          AUS           NZ        NaN   \n",
       "6914   1298147   AUS v NZ          AUS           NZ        NaN   \n",
       "6915   1298147   AUS v NZ          AUS           NZ        NaN   \n",
       "6916   1298147   AUS v NZ          AUS           NZ   489889.0   \n",
       "\n",
       "     wkt_batsman_name wkt_bowler_name  wkt_batsman_runs  wkt_batsman_balls  \\\n",
       "0                 NaN             NaN               NaN                NaN   \n",
       "1                 NaN             NaN               NaN                NaN   \n",
       "2                 NaN             NaN               NaN                NaN   \n",
       "3                 NaN             NaN               NaN                NaN   \n",
       "4                 NaN             NaN               NaN                NaN   \n",
       "...               ...             ...               ...                ...   \n",
       "6912       Adam Zampa     Trent Boult               0.0                2.0   \n",
       "6913              NaN             NaN               NaN                NaN   \n",
       "6914              NaN             NaN               NaN                NaN   \n",
       "6915              NaN             NaN               NaN                NaN   \n",
       "6916      Pat Cummins     Tim Southee              21.0               18.0   \n",
       "\n",
       "                                               wkt_text  \n",
       "0                                                   NaN  \n",
       "1                                                   NaN  \n",
       "2                                                   NaN  \n",
       "3                                                   NaN  \n",
       "4                                                   NaN  \n",
       "...                                                 ...  \n",
       "6912        A Zampa  b Boult 0 (3m 2b 0x4 0x6) SR: 0.00  \n",
       "6913                                                NaN  \n",
       "6914                                                NaN  \n",
       "6915                                                NaN  \n",
       "6916  PJ Cummins c &dagger;Conway b Southee 21 (27m ...  \n",
       "\n",
       "[4005 rows x 10 columns]"
      ]
     },
     "execution_count": 95,
     "metadata": {},
     "output_type": "execute_result"
    }
   ],
   "source": [
    "column_list = ['match_id', 'match_name', 'batting_team', 'bowling_team', 'wicket_id',\n",
    "               'wkt_batsman_name', 'wkt_bowler_name', 'wkt_batsman_runs', 'wkt_batsman_balls', 'wkt_text']\n",
    "\n",
    "wkt_df = filtered_df(df, column_list, top10)\n",
    "wkt_df"
   ]
  },
  {
   "cell_type": "code",
   "execution_count": 96,
   "id": "20ac2175",
   "metadata": {
    "execution": {
     "iopub.execute_input": "2023-11-21T05:53:10.141954Z",
     "iopub.status.busy": "2023-11-21T05:53:10.141573Z",
     "iopub.status.idle": "2023-11-21T05:53:10.153702Z",
     "shell.execute_reply": "2023-11-21T05:53:10.151911Z"
    },
    "papermill": {
     "duration": 0.043222,
     "end_time": "2023-11-21T05:53:10.156281",
     "exception": false,
     "start_time": "2023-11-21T05:53:10.113059",
     "status": "completed"
    },
    "tags": []
   },
   "outputs": [
    {
     "data": {
      "text/plain": [
       "match_id                0\n",
       "match_name              0\n",
       "batting_team            0\n",
       "bowling_team            0\n",
       "wicket_id            3789\n",
       "wkt_batsman_name     3789\n",
       "wkt_bowler_name      3789\n",
       "wkt_batsman_runs     3789\n",
       "wkt_batsman_balls    3789\n",
       "wkt_text             3789\n",
       "dtype: int64"
      ]
     },
     "execution_count": 96,
     "metadata": {},
     "output_type": "execute_result"
    }
   ],
   "source": [
    "wkt_df.isnull().sum()"
   ]
  },
  {
   "cell_type": "code",
   "execution_count": 97,
   "id": "010e261e",
   "metadata": {
    "execution": {
     "iopub.execute_input": "2023-11-21T05:53:10.211600Z",
     "iopub.status.busy": "2023-11-21T05:53:10.211178Z",
     "iopub.status.idle": "2023-11-21T05:53:10.228199Z",
     "shell.execute_reply": "2023-11-21T05:53:10.226373Z"
    },
    "papermill": {
     "duration": 0.048342,
     "end_time": "2023-11-21T05:53:10.231085",
     "exception": false,
     "start_time": "2023-11-21T05:53:10.182743",
     "status": "completed"
    },
    "tags": []
   },
   "outputs": [
    {
     "name": "stdout",
     "output_type": "stream",
     "text": [
      "<class 'pandas.core.frame.DataFrame'>\n",
      "Index: 4005 entries, 0 to 6916\n",
      "Data columns (total 10 columns):\n",
      " #   Column             Non-Null Count  Dtype  \n",
      "---  ------             --------------  -----  \n",
      " 0   match_id           4005 non-null   int64  \n",
      " 1   match_name         4005 non-null   object \n",
      " 2   batting_team       4005 non-null   object \n",
      " 3   bowling_team       4005 non-null   object \n",
      " 4   wicket_id          216 non-null    float64\n",
      " 5   wkt_batsman_name   216 non-null    object \n",
      " 6   wkt_bowler_name    216 non-null    object \n",
      " 7   wkt_batsman_runs   216 non-null    float64\n",
      " 8   wkt_batsman_balls  216 non-null    float64\n",
      " 9   wkt_text           216 non-null    object \n",
      "dtypes: float64(3), int64(1), object(6)\n",
      "memory usage: 344.2+ KB\n"
     ]
    }
   ],
   "source": [
    "wkt_df.info()"
   ]
  },
  {
   "cell_type": "code",
   "execution_count": 98,
   "id": "2681ba10",
   "metadata": {
    "execution": {
     "iopub.execute_input": "2023-11-21T05:53:10.284011Z",
     "iopub.status.busy": "2023-11-21T05:53:10.283612Z",
     "iopub.status.idle": "2023-11-21T05:53:10.291998Z",
     "shell.execute_reply": "2023-11-21T05:53:10.291172Z"
    },
    "papermill": {
     "duration": 0.0376,
     "end_time": "2023-11-21T05:53:10.294426",
     "exception": false,
     "start_time": "2023-11-21T05:53:10.256826",
     "status": "completed"
    },
    "tags": []
   },
   "outputs": [],
   "source": [
    "wkt_df1= wkt_df.dropna(subset=['wicket_id'],inplace= True)"
   ]
  },
  {
   "cell_type": "code",
   "execution_count": 99,
   "id": "6c6c021d",
   "metadata": {
    "execution": {
     "iopub.execute_input": "2023-11-21T05:53:10.347872Z",
     "iopub.status.busy": "2023-11-21T05:53:10.347059Z",
     "iopub.status.idle": "2023-11-21T05:53:10.371256Z",
     "shell.execute_reply": "2023-11-21T05:53:10.370150Z"
    },
    "papermill": {
     "duration": 0.053669,
     "end_time": "2023-11-21T05:53:10.373713",
     "exception": false,
     "start_time": "2023-11-21T05:53:10.320044",
     "status": "completed"
    },
    "tags": []
   },
   "outputs": [],
   "source": [
    "wkt_df1"
   ]
  },
  {
   "cell_type": "markdown",
   "id": "7cf7c244",
   "metadata": {
    "papermill": {
     "duration": 0.026064,
     "end_time": "2023-11-21T05:53:10.477523",
     "exception": false,
     "start_time": "2023-11-21T05:53:10.451459",
     "status": "completed"
    },
    "tags": []
   },
   "source": [
    "**To find the details of the wickets taken by a player**"
   ]
  },
  {
   "cell_type": "code",
   "execution_count": 101,
   "id": "3ae4d7a8",
   "metadata": {
    "execution": {
     "iopub.execute_input": "2023-11-21T05:53:10.531522Z",
     "iopub.status.busy": "2023-11-21T05:53:10.531072Z",
     "iopub.status.idle": "2023-11-21T05:53:10.538287Z",
     "shell.execute_reply": "2023-11-21T05:53:10.537325Z"
    },
    "papermill": {
     "duration": 0.036732,
     "end_time": "2023-11-21T05:53:10.540540",
     "exception": false,
     "start_time": "2023-11-21T05:53:10.503808",
     "status": "completed"
    },
    "scrolled": true,
    "tags": []
   },
   "outputs": [
    {
     "data": {
      "text/plain": [
       "'player_name= input(\"Enter the name of the bowler: \")\\ndf= wkt_df.loc[wkt_df[\\'wkt_bowler_name\\']==player_name]\\ndf\\nprint(\"Total wickets taken by {} is {}.\".format(player_name, df.shape[0]))'"
      ]
     },
     "execution_count": 101,
     "metadata": {},
     "output_type": "execute_result"
    }
   ],
   "source": [
    "'''player_name= input(\"Enter the name of the bowler: \")\n",
    "df= wkt_df.loc[wkt_df['wkt_bowler_name']==player_name]\n",
    "df\n",
    "print(\"Total wickets taken by {} is {}.\".format(player_name, df.shape[0]))'''"
   ]
  },
  {
   "cell_type": "markdown",
   "id": "58685d34",
   "metadata": {},
   "source": [
    "# Thank You"
   ]
  }
 ],
 "metadata": {
  "kaggle": {
   "accelerator": "none",
   "dataSources": [
    {
     "datasetId": 2554559,
     "sourceId": 4506927,
     "sourceType": "datasetVersion"
    }
   ],
   "dockerImageVersionId": 30587,
   "isGpuEnabled": false,
   "isInternetEnabled": true,
   "language": "python",
   "sourceType": "notebook"
  },
  "kernelspec": {
   "display_name": "Python 3 (ipykernel)",
   "language": "python",
   "name": "python3"
  },
  "language_info": {
   "codemirror_mode": {
    "name": "ipython",
    "version": 3
   },
   "file_extension": ".py",
   "mimetype": "text/x-python",
   "name": "python",
   "nbconvert_exporter": "python",
   "pygments_lexer": "ipython3",
   "version": "3.11.5"
  },
  "papermill": {
   "default_parameters": {},
   "duration": 12.127228,
   "end_time": "2023-11-21T05:53:11.555167",
   "environment_variables": {},
   "exception": null,
   "input_path": "__notebook__.ipynb",
   "output_path": "__notebook__.ipynb",
   "parameters": {},
   "start_time": "2023-11-21T05:52:59.427939",
   "version": "2.3.4"
  }
 },
 "nbformat": 4,
 "nbformat_minor": 5
}
